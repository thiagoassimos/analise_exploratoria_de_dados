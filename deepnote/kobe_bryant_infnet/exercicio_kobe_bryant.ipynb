{
  "cells": [
    {
      "cell_type": "markdown",
      "source": "# Kobe Bryant Dataset",
      "metadata": {
        "formattedRanges": [],
        "cell_id": "059ff275301f45a8b3bf8c92d513bfe6",
        "deepnote_cell_type": "text-cell-h1"
      },
      "block_group": "97d05546c67f48b59e47ffac642badd6"
    },
    {
      "cell_type": "markdown",
      "source": "Depois de assistir ao vídeo, baixe os dados sobre os arremessos do Kobe Bryant e crie um dataframe de pandas.",
      "metadata": {
        "formattedRanges": [
          {
            "url": "https://drive.google.com/file/d/1SDh9JGCzJ2YiDkZf60Rcm3Xf4xnUjA24/view?usp=sharing",
            "type": "link",
            "ranges": [],
            "toCodePoint": 43,
            "fromCodePoint": 38
          }
        ],
        "cell_id": "1c7367126fc24926878b17a1df86a6e6",
        "deepnote_cell_type": "text-cell-p"
      },
      "block_group": "ac0545fedaa3423b991185dd63db0fda"
    },
    {
      "cell_type": "markdown",
      "source": "### 1. Mostre a conversão de arremessos (shot_made_flag).",
      "metadata": {
        "formattedRanges": [],
        "cell_id": "7db61401b08d46e992590190e472bbe8",
        "deepnote_cell_type": "text-cell-h3"
      },
      "block_group": "9789b646334a46fd826041cc784677fc"
    },
    {
      "cell_type": "code",
      "source": "import pandas as pd\nimport numpy as np\nimport matplotlib.pyplot as plt\ndata = pd.read_csv(\"kobe_bryant_shots_data.csv\")\n\ndata",
      "metadata": {
        "source_hash": "40f0ef53",
        "execution_start": 1697900516488,
        "execution_millis": 1796,
        "deepnote_to_be_reexecuted": false,
        "cell_id": "a0a7b95648f84d5b9608d7aa994dd0e4",
        "deepnote_cell_type": "code"
      },
      "outputs": [
        {
          "output_type": "execute_result",
          "execution_count": 1,
          "data": {
            "application/vnd.deepnote.dataframe.v3+json": {
              "column_count": 25,
              "row_count": 30697,
              "columns": [
                {
                  "name": "action_type",
                  "dtype": "object",
                  "stats": {
                    "unique_count": 57,
                    "nan_count": 0,
                    "categories": [
                      {
                        "name": "Jump Shot",
                        "count": 18880
                      },
                      {
                        "name": "Layup Shot",
                        "count": 2567
                      },
                      {
                        "name": "55 others",
                        "count": 9250
                      }
                    ]
                  }
                },
                {
                  "name": "combined_shot_type",
                  "dtype": "object",
                  "stats": {
                    "unique_count": 6,
                    "nan_count": 0,
                    "categories": [
                      {
                        "name": "Jump Shot",
                        "count": 23485
                      },
                      {
                        "name": "Layup",
                        "count": 5448
                      },
                      {
                        "name": "4 others",
                        "count": 1764
                      }
                    ]
                  }
                },
                {
                  "name": "game_event_id",
                  "dtype": "int64",
                  "stats": {
                    "unique_count": 620,
                    "nan_count": 0,
                    "min": "2",
                    "max": "659",
                    "histogram": [
                      {
                        "bin_start": 2,
                        "bin_end": 67.7,
                        "count": 4852
                      },
                      {
                        "bin_start": 67.7,
                        "bin_end": 133.4,
                        "count": 3896
                      },
                      {
                        "bin_start": 133.4,
                        "bin_end": 199.10000000000002,
                        "count": 2957
                      },
                      {
                        "bin_start": 199.10000000000002,
                        "bin_end": 264.8,
                        "count": 4484
                      },
                      {
                        "bin_start": 264.8,
                        "bin_end": 330.5,
                        "count": 4629
                      },
                      {
                        "bin_start": 330.5,
                        "bin_end": 396.20000000000005,
                        "count": 3745
                      },
                      {
                        "bin_start": 396.20000000000005,
                        "bin_end": 461.90000000000003,
                        "count": 3394
                      },
                      {
                        "bin_start": 461.90000000000003,
                        "bin_end": 527.6,
                        "count": 2215
                      },
                      {
                        "bin_start": 527.6,
                        "bin_end": 593.3000000000001,
                        "count": 482
                      },
                      {
                        "bin_start": 593.3000000000001,
                        "bin_end": 659,
                        "count": 43
                      }
                    ]
                  }
                },
                {
                  "name": "game_id",
                  "dtype": "int64"
                },
                {
                  "name": "lat",
                  "dtype": "float64"
                },
                {
                  "name": "loc_x",
                  "dtype": "int64"
                },
                {
                  "name": "loc_y",
                  "dtype": "int64"
                },
                {
                  "name": "lon",
                  "dtype": "float64"
                },
                {
                  "name": "minutes_remaining",
                  "dtype": "int64"
                },
                {
                  "name": "period",
                  "dtype": "int64"
                },
                {
                  "name": "playoffs",
                  "dtype": "int64"
                },
                {
                  "name": "season",
                  "dtype": "object"
                },
                {
                  "name": "seconds_remaining",
                  "dtype": "int64"
                },
                {
                  "name": "shot_distance",
                  "dtype": "int64"
                },
                {
                  "name": "shot_made_flag",
                  "dtype": "float64"
                },
                {
                  "name": "shot_type",
                  "dtype": "object"
                },
                {
                  "name": "shot_zone_area",
                  "dtype": "object"
                },
                {
                  "name": "shot_zone_basic",
                  "dtype": "object"
                },
                {
                  "name": "shot_zone_range",
                  "dtype": "object"
                },
                {
                  "name": "team_id",
                  "dtype": "int64"
                },
                {
                  "name": "team_name",
                  "dtype": "object"
                },
                {
                  "name": "game_date",
                  "dtype": "object"
                },
                {
                  "name": "matchup",
                  "dtype": "object"
                },
                {
                  "name": "opponent",
                  "dtype": "object"
                },
                {
                  "name": "shot_id",
                  "dtype": "int64"
                },
                {
                  "name": "_deepnote_index_column",
                  "dtype": "int64"
                }
              ],
              "rows": [
                {
                  "action_type": "Jump Shot",
                  "combined_shot_type": "Jump Shot",
                  "game_event_id": 10,
                  "game_id": 20000012,
                  "lat": 33.9723,
                  "loc_x": 167,
                  "loc_y": 72,
                  "lon": -118.1028,
                  "minutes_remaining": 10,
                  "period": 1,
                  "playoffs": 0,
                  "season": "2000-01",
                  "seconds_remaining": 27,
                  "shot_distance": 18,
                  "shot_made_flag": "nan",
                  "shot_type": "2PT Field Goal",
                  "shot_zone_area": "Right Side(R)",
                  "shot_zone_basic": "Mid-Range",
                  "shot_zone_range": "16-24 ft.",
                  "team_id": 1610612747,
                  "team_name": "Los Angeles Lakers",
                  "game_date": "2000-10-31",
                  "matchup": "LAL @ POR",
                  "opponent": "POR",
                  "shot_id": 1,
                  "_deepnote_index_column": 0
                },
                {
                  "action_type": "Jump Shot",
                  "combined_shot_type": "Jump Shot",
                  "game_event_id": 12,
                  "game_id": 20000012,
                  "lat": 34.0443,
                  "loc_x": -157,
                  "loc_y": 0,
                  "lon": -118.4268,
                  "minutes_remaining": 10,
                  "period": 1,
                  "playoffs": 0,
                  "season": "2000-01",
                  "seconds_remaining": 22,
                  "shot_distance": 15,
                  "shot_made_flag": 0,
                  "shot_type": "2PT Field Goal",
                  "shot_zone_area": "Left Side(L)",
                  "shot_zone_basic": "Mid-Range",
                  "shot_zone_range": "8-16 ft.",
                  "team_id": 1610612747,
                  "team_name": "Los Angeles Lakers",
                  "game_date": "2000-10-31",
                  "matchup": "LAL @ POR",
                  "opponent": "POR",
                  "shot_id": 2,
                  "_deepnote_index_column": 1
                },
                {
                  "action_type": "Jump Shot",
                  "combined_shot_type": "Jump Shot",
                  "game_event_id": 35,
                  "game_id": 20000012,
                  "lat": 33.9093,
                  "loc_x": -101,
                  "loc_y": 135,
                  "lon": -118.3708,
                  "minutes_remaining": 7,
                  "period": 1,
                  "playoffs": 0,
                  "season": "2000-01",
                  "seconds_remaining": 45,
                  "shot_distance": 16,
                  "shot_made_flag": 1,
                  "shot_type": "2PT Field Goal",
                  "shot_zone_area": "Left Side Center(LC)",
                  "shot_zone_basic": "Mid-Range",
                  "shot_zone_range": "16-24 ft.",
                  "team_id": 1610612747,
                  "team_name": "Los Angeles Lakers",
                  "game_date": "2000-10-31",
                  "matchup": "LAL @ POR",
                  "opponent": "POR",
                  "shot_id": 3,
                  "_deepnote_index_column": 2
                },
                {
                  "action_type": "Jump Shot",
                  "combined_shot_type": "Jump Shot",
                  "game_event_id": 43,
                  "game_id": 20000012,
                  "lat": 33.8693,
                  "loc_x": 138,
                  "loc_y": 175,
                  "lon": -118.1318,
                  "minutes_remaining": 6,
                  "period": 1,
                  "playoffs": 0,
                  "season": "2000-01",
                  "seconds_remaining": 52,
                  "shot_distance": 22,
                  "shot_made_flag": 0,
                  "shot_type": "2PT Field Goal",
                  "shot_zone_area": "Right Side Center(RC)",
                  "shot_zone_basic": "Mid-Range",
                  "shot_zone_range": "16-24 ft.",
                  "team_id": 1610612747,
                  "team_name": "Los Angeles Lakers",
                  "game_date": "2000-10-31",
                  "matchup": "LAL @ POR",
                  "opponent": "POR",
                  "shot_id": 4,
                  "_deepnote_index_column": 3
                },
                {
                  "action_type": "Driving Dunk Shot",
                  "combined_shot_type": "Dunk",
                  "game_event_id": 155,
                  "game_id": 20000012,
                  "lat": 34.0443,
                  "loc_x": 0,
                  "loc_y": 0,
                  "lon": -118.2698,
                  "minutes_remaining": 6,
                  "period": 2,
                  "playoffs": 0,
                  "season": "2000-01",
                  "seconds_remaining": 19,
                  "shot_distance": 0,
                  "shot_made_flag": 1,
                  "shot_type": "2PT Field Goal",
                  "shot_zone_area": "Center(C)",
                  "shot_zone_basic": "Restricted Area",
                  "shot_zone_range": "Less Than 8 ft.",
                  "team_id": 1610612747,
                  "team_name": "Los Angeles Lakers",
                  "game_date": "2000-10-31",
                  "matchup": "LAL @ POR",
                  "opponent": "POR",
                  "shot_id": 5,
                  "_deepnote_index_column": 4
                },
                {
                  "action_type": "Jump Shot",
                  "combined_shot_type": "Jump Shot",
                  "game_event_id": 244,
                  "game_id": 20000012,
                  "lat": 34.0553,
                  "loc_x": -145,
                  "loc_y": -11,
                  "lon": -118.4148,
                  "minutes_remaining": 9,
                  "period": 3,
                  "playoffs": 0,
                  "season": "2000-01",
                  "seconds_remaining": 32,
                  "shot_distance": 14,
                  "shot_made_flag": 0,
                  "shot_type": "2PT Field Goal",
                  "shot_zone_area": "Left Side(L)",
                  "shot_zone_basic": "Mid-Range",
                  "shot_zone_range": "8-16 ft.",
                  "team_id": 1610612747,
                  "team_name": "Los Angeles Lakers",
                  "game_date": "2000-10-31",
                  "matchup": "LAL @ POR",
                  "opponent": "POR",
                  "shot_id": 6,
                  "_deepnote_index_column": 5
                },
                {
                  "action_type": "Layup Shot",
                  "combined_shot_type": "Layup",
                  "game_event_id": 251,
                  "game_id": 20000012,
                  "lat": 34.0443,
                  "loc_x": 0,
                  "loc_y": 0,
                  "lon": -118.2698,
                  "minutes_remaining": 8,
                  "period": 3,
                  "playoffs": 0,
                  "season": "2000-01",
                  "seconds_remaining": 52,
                  "shot_distance": 0,
                  "shot_made_flag": 1,
                  "shot_type": "2PT Field Goal",
                  "shot_zone_area": "Center(C)",
                  "shot_zone_basic": "Restricted Area",
                  "shot_zone_range": "Less Than 8 ft.",
                  "team_id": 1610612747,
                  "team_name": "Los Angeles Lakers",
                  "game_date": "2000-10-31",
                  "matchup": "LAL @ POR",
                  "opponent": "POR",
                  "shot_id": 7,
                  "_deepnote_index_column": 6
                },
                {
                  "action_type": "Jump Shot",
                  "combined_shot_type": "Jump Shot",
                  "game_event_id": 254,
                  "game_id": 20000012,
                  "lat": 34.0163,
                  "loc_x": 1,
                  "loc_y": 28,
                  "lon": -118.2688,
                  "minutes_remaining": 8,
                  "period": 3,
                  "playoffs": 0,
                  "season": "2000-01",
                  "seconds_remaining": 5,
                  "shot_distance": 2,
                  "shot_made_flag": "nan",
                  "shot_type": "2PT Field Goal",
                  "shot_zone_area": "Center(C)",
                  "shot_zone_basic": "Restricted Area",
                  "shot_zone_range": "Less Than 8 ft.",
                  "team_id": 1610612747,
                  "team_name": "Los Angeles Lakers",
                  "game_date": "2000-10-31",
                  "matchup": "LAL @ POR",
                  "opponent": "POR",
                  "shot_id": 8,
                  "_deepnote_index_column": 7
                },
                {
                  "action_type": "Jump Shot",
                  "combined_shot_type": "Jump Shot",
                  "game_event_id": 265,
                  "game_id": 20000012,
                  "lat": 33.9363,
                  "loc_x": -65,
                  "loc_y": 108,
                  "lon": -118.3348,
                  "minutes_remaining": 6,
                  "period": 3,
                  "playoffs": 0,
                  "season": "2000-01",
                  "seconds_remaining": 12,
                  "shot_distance": 12,
                  "shot_made_flag": 1,
                  "shot_type": "2PT Field Goal",
                  "shot_zone_area": "Left Side(L)",
                  "shot_zone_basic": "In The Paint (Non-RA)",
                  "shot_zone_range": "8-16 ft.",
                  "team_id": 1610612747,
                  "team_name": "Los Angeles Lakers",
                  "game_date": "2000-10-31",
                  "matchup": "LAL @ POR",
                  "opponent": "POR",
                  "shot_id": 9,
                  "_deepnote_index_column": 8
                },
                {
                  "action_type": "Running Jump Shot",
                  "combined_shot_type": "Jump Shot",
                  "game_event_id": 294,
                  "game_id": 20000012,
                  "lat": 33.9193,
                  "loc_x": -33,
                  "loc_y": 125,
                  "lon": -118.3028,
                  "minutes_remaining": 3,
                  "period": 3,
                  "playoffs": 0,
                  "season": "2000-01",
                  "seconds_remaining": 36,
                  "shot_distance": 12,
                  "shot_made_flag": 0,
                  "shot_type": "2PT Field Goal",
                  "shot_zone_area": "Center(C)",
                  "shot_zone_basic": "In The Paint (Non-RA)",
                  "shot_zone_range": "8-16 ft.",
                  "team_id": 1610612747,
                  "team_name": "Los Angeles Lakers",
                  "game_date": "2000-10-31",
                  "matchup": "LAL @ POR",
                  "opponent": "POR",
                  "shot_id": 10,
                  "_deepnote_index_column": 9
                }
              ]
            },
            "text/plain": "             action_type combined_shot_type  game_event_id   game_id      lat  \\\n0              Jump Shot          Jump Shot             10  20000012  33.9723   \n1              Jump Shot          Jump Shot             12  20000012  34.0443   \n2              Jump Shot          Jump Shot             35  20000012  33.9093   \n3              Jump Shot          Jump Shot             43  20000012  33.8693   \n4      Driving Dunk Shot               Dunk            155  20000012  34.0443   \n...                  ...                ...            ...       ...      ...   \n30692          Jump Shot          Jump Shot            397  49900088  33.9963   \n30693           Tip Shot           Tip Shot            398  49900088  34.0443   \n30694  Running Jump Shot          Jump Shot            426  49900088  33.8783   \n30695          Jump Shot          Jump Shot            448  49900088  33.7773   \n30696          Jump Shot          Jump Shot            471  49900088  33.9723   \n\n       loc_x  loc_y       lon  minutes_remaining  period  ...       shot_type  \\\n0        167     72 -118.1028                 10       1  ...  2PT Field Goal   \n1       -157      0 -118.4268                 10       1  ...  2PT Field Goal   \n2       -101    135 -118.3708                  7       1  ...  2PT Field Goal   \n3        138    175 -118.1318                  6       1  ...  2PT Field Goal   \n4          0      0 -118.2698                  6       2  ...  2PT Field Goal   \n...      ...    ...       ...                ...     ...  ...             ...   \n30692      1     48 -118.2688                  6       4  ...  2PT Field Goal   \n30693      0      0 -118.2698                  6       4  ...  2PT Field Goal   \n30694   -134    166 -118.4038                  3       4  ...  2PT Field Goal   \n30695     31    267 -118.2388                  2       4  ...  3PT Field Goal   \n30696      1     72 -118.2688                  0       4  ...  2PT Field Goal   \n\n              shot_zone_area        shot_zone_basic  shot_zone_range  \\\n0              Right Side(R)              Mid-Range        16-24 ft.   \n1               Left Side(L)              Mid-Range         8-16 ft.   \n2       Left Side Center(LC)              Mid-Range        16-24 ft.   \n3      Right Side Center(RC)              Mid-Range        16-24 ft.   \n4                  Center(C)        Restricted Area  Less Than 8 ft.   \n...                      ...                    ...              ...   \n30692              Center(C)  In The Paint (Non-RA)  Less Than 8 ft.   \n30693              Center(C)        Restricted Area  Less Than 8 ft.   \n30694   Left Side Center(LC)              Mid-Range        16-24 ft.   \n30695              Center(C)      Above the Break 3          24+ ft.   \n30696              Center(C)  In The Paint (Non-RA)  Less Than 8 ft.   \n\n          team_id           team_name   game_date      matchup opponent  \\\n0      1610612747  Los Angeles Lakers  2000-10-31    LAL @ POR      POR   \n1      1610612747  Los Angeles Lakers  2000-10-31    LAL @ POR      POR   \n2      1610612747  Los Angeles Lakers  2000-10-31    LAL @ POR      POR   \n3      1610612747  Los Angeles Lakers  2000-10-31    LAL @ POR      POR   \n4      1610612747  Los Angeles Lakers  2000-10-31    LAL @ POR      POR   \n...           ...                 ...         ...          ...      ...   \n30692  1610612747  Los Angeles Lakers  2000-06-19  LAL vs. IND      IND   \n30693  1610612747  Los Angeles Lakers  2000-06-19  LAL vs. IND      IND   \n30694  1610612747  Los Angeles Lakers  2000-06-19  LAL vs. IND      IND   \n30695  1610612747  Los Angeles Lakers  2000-06-19  LAL vs. IND      IND   \n30696  1610612747  Los Angeles Lakers  2000-06-19  LAL vs. IND      IND   \n\n       shot_id  \n0            1  \n1            2  \n2            3  \n3            4  \n4            5  \n...        ...  \n30692    30693  \n30693    30694  \n30694    30695  \n30695    30696  \n30696    30697  \n\n[30697 rows x 25 columns]",
            "text/html": "<div>\n<style scoped>\n    .dataframe tbody tr th:only-of-type {\n        vertical-align: middle;\n    }\n\n    .dataframe tbody tr th {\n        vertical-align: top;\n    }\n\n    .dataframe thead th {\n        text-align: right;\n    }\n</style>\n<table border=\"1\" class=\"dataframe\">\n  <thead>\n    <tr style=\"text-align: right;\">\n      <th></th>\n      <th>action_type</th>\n      <th>combined_shot_type</th>\n      <th>game_event_id</th>\n      <th>game_id</th>\n      <th>lat</th>\n      <th>loc_x</th>\n      <th>loc_y</th>\n      <th>lon</th>\n      <th>minutes_remaining</th>\n      <th>period</th>\n      <th>...</th>\n      <th>shot_type</th>\n      <th>shot_zone_area</th>\n      <th>shot_zone_basic</th>\n      <th>shot_zone_range</th>\n      <th>team_id</th>\n      <th>team_name</th>\n      <th>game_date</th>\n      <th>matchup</th>\n      <th>opponent</th>\n      <th>shot_id</th>\n    </tr>\n  </thead>\n  <tbody>\n    <tr>\n      <th>0</th>\n      <td>Jump Shot</td>\n      <td>Jump Shot</td>\n      <td>10</td>\n      <td>20000012</td>\n      <td>33.9723</td>\n      <td>167</td>\n      <td>72</td>\n      <td>-118.1028</td>\n      <td>10</td>\n      <td>1</td>\n      <td>...</td>\n      <td>2PT Field Goal</td>\n      <td>Right Side(R)</td>\n      <td>Mid-Range</td>\n      <td>16-24 ft.</td>\n      <td>1610612747</td>\n      <td>Los Angeles Lakers</td>\n      <td>2000-10-31</td>\n      <td>LAL @ POR</td>\n      <td>POR</td>\n      <td>1</td>\n    </tr>\n    <tr>\n      <th>1</th>\n      <td>Jump Shot</td>\n      <td>Jump Shot</td>\n      <td>12</td>\n      <td>20000012</td>\n      <td>34.0443</td>\n      <td>-157</td>\n      <td>0</td>\n      <td>-118.4268</td>\n      <td>10</td>\n      <td>1</td>\n      <td>...</td>\n      <td>2PT Field Goal</td>\n      <td>Left Side(L)</td>\n      <td>Mid-Range</td>\n      <td>8-16 ft.</td>\n      <td>1610612747</td>\n      <td>Los Angeles Lakers</td>\n      <td>2000-10-31</td>\n      <td>LAL @ POR</td>\n      <td>POR</td>\n      <td>2</td>\n    </tr>\n    <tr>\n      <th>2</th>\n      <td>Jump Shot</td>\n      <td>Jump Shot</td>\n      <td>35</td>\n      <td>20000012</td>\n      <td>33.9093</td>\n      <td>-101</td>\n      <td>135</td>\n      <td>-118.3708</td>\n      <td>7</td>\n      <td>1</td>\n      <td>...</td>\n      <td>2PT Field Goal</td>\n      <td>Left Side Center(LC)</td>\n      <td>Mid-Range</td>\n      <td>16-24 ft.</td>\n      <td>1610612747</td>\n      <td>Los Angeles Lakers</td>\n      <td>2000-10-31</td>\n      <td>LAL @ POR</td>\n      <td>POR</td>\n      <td>3</td>\n    </tr>\n    <tr>\n      <th>3</th>\n      <td>Jump Shot</td>\n      <td>Jump Shot</td>\n      <td>43</td>\n      <td>20000012</td>\n      <td>33.8693</td>\n      <td>138</td>\n      <td>175</td>\n      <td>-118.1318</td>\n      <td>6</td>\n      <td>1</td>\n      <td>...</td>\n      <td>2PT Field Goal</td>\n      <td>Right Side Center(RC)</td>\n      <td>Mid-Range</td>\n      <td>16-24 ft.</td>\n      <td>1610612747</td>\n      <td>Los Angeles Lakers</td>\n      <td>2000-10-31</td>\n      <td>LAL @ POR</td>\n      <td>POR</td>\n      <td>4</td>\n    </tr>\n    <tr>\n      <th>4</th>\n      <td>Driving Dunk Shot</td>\n      <td>Dunk</td>\n      <td>155</td>\n      <td>20000012</td>\n      <td>34.0443</td>\n      <td>0</td>\n      <td>0</td>\n      <td>-118.2698</td>\n      <td>6</td>\n      <td>2</td>\n      <td>...</td>\n      <td>2PT Field Goal</td>\n      <td>Center(C)</td>\n      <td>Restricted Area</td>\n      <td>Less Than 8 ft.</td>\n      <td>1610612747</td>\n      <td>Los Angeles Lakers</td>\n      <td>2000-10-31</td>\n      <td>LAL @ POR</td>\n      <td>POR</td>\n      <td>5</td>\n    </tr>\n    <tr>\n      <th>...</th>\n      <td>...</td>\n      <td>...</td>\n      <td>...</td>\n      <td>...</td>\n      <td>...</td>\n      <td>...</td>\n      <td>...</td>\n      <td>...</td>\n      <td>...</td>\n      <td>...</td>\n      <td>...</td>\n      <td>...</td>\n      <td>...</td>\n      <td>...</td>\n      <td>...</td>\n      <td>...</td>\n      <td>...</td>\n      <td>...</td>\n      <td>...</td>\n      <td>...</td>\n      <td>...</td>\n    </tr>\n    <tr>\n      <th>30692</th>\n      <td>Jump Shot</td>\n      <td>Jump Shot</td>\n      <td>397</td>\n      <td>49900088</td>\n      <td>33.9963</td>\n      <td>1</td>\n      <td>48</td>\n      <td>-118.2688</td>\n      <td>6</td>\n      <td>4</td>\n      <td>...</td>\n      <td>2PT Field Goal</td>\n      <td>Center(C)</td>\n      <td>In The Paint (Non-RA)</td>\n      <td>Less Than 8 ft.</td>\n      <td>1610612747</td>\n      <td>Los Angeles Lakers</td>\n      <td>2000-06-19</td>\n      <td>LAL vs. IND</td>\n      <td>IND</td>\n      <td>30693</td>\n    </tr>\n    <tr>\n      <th>30693</th>\n      <td>Tip Shot</td>\n      <td>Tip Shot</td>\n      <td>398</td>\n      <td>49900088</td>\n      <td>34.0443</td>\n      <td>0</td>\n      <td>0</td>\n      <td>-118.2698</td>\n      <td>6</td>\n      <td>4</td>\n      <td>...</td>\n      <td>2PT Field Goal</td>\n      <td>Center(C)</td>\n      <td>Restricted Area</td>\n      <td>Less Than 8 ft.</td>\n      <td>1610612747</td>\n      <td>Los Angeles Lakers</td>\n      <td>2000-06-19</td>\n      <td>LAL vs. IND</td>\n      <td>IND</td>\n      <td>30694</td>\n    </tr>\n    <tr>\n      <th>30694</th>\n      <td>Running Jump Shot</td>\n      <td>Jump Shot</td>\n      <td>426</td>\n      <td>49900088</td>\n      <td>33.8783</td>\n      <td>-134</td>\n      <td>166</td>\n      <td>-118.4038</td>\n      <td>3</td>\n      <td>4</td>\n      <td>...</td>\n      <td>2PT Field Goal</td>\n      <td>Left Side Center(LC)</td>\n      <td>Mid-Range</td>\n      <td>16-24 ft.</td>\n      <td>1610612747</td>\n      <td>Los Angeles Lakers</td>\n      <td>2000-06-19</td>\n      <td>LAL vs. IND</td>\n      <td>IND</td>\n      <td>30695</td>\n    </tr>\n    <tr>\n      <th>30695</th>\n      <td>Jump Shot</td>\n      <td>Jump Shot</td>\n      <td>448</td>\n      <td>49900088</td>\n      <td>33.7773</td>\n      <td>31</td>\n      <td>267</td>\n      <td>-118.2388</td>\n      <td>2</td>\n      <td>4</td>\n      <td>...</td>\n      <td>3PT Field Goal</td>\n      <td>Center(C)</td>\n      <td>Above the Break 3</td>\n      <td>24+ ft.</td>\n      <td>1610612747</td>\n      <td>Los Angeles Lakers</td>\n      <td>2000-06-19</td>\n      <td>LAL vs. IND</td>\n      <td>IND</td>\n      <td>30696</td>\n    </tr>\n    <tr>\n      <th>30696</th>\n      <td>Jump Shot</td>\n      <td>Jump Shot</td>\n      <td>471</td>\n      <td>49900088</td>\n      <td>33.9723</td>\n      <td>1</td>\n      <td>72</td>\n      <td>-118.2688</td>\n      <td>0</td>\n      <td>4</td>\n      <td>...</td>\n      <td>2PT Field Goal</td>\n      <td>Center(C)</td>\n      <td>In The Paint (Non-RA)</td>\n      <td>Less Than 8 ft.</td>\n      <td>1610612747</td>\n      <td>Los Angeles Lakers</td>\n      <td>2000-06-19</td>\n      <td>LAL vs. IND</td>\n      <td>IND</td>\n      <td>30697</td>\n    </tr>\n  </tbody>\n</table>\n<p>30697 rows × 25 columns</p>\n</div>"
          },
          "metadata": {}
        }
      ],
      "execution_count": 1,
      "block_group": "a0a7b95648f84d5b9608d7aa994dd0e4"
    },
    {
      "cell_type": "code",
      "source": "data.shot_made_flag.value_counts().iat[1]",
      "metadata": {
        "source_hash": "8b06b23f",
        "execution_start": 1697900876915,
        "execution_millis": 33,
        "deepnote_to_be_reexecuted": false,
        "cell_id": "7466f2c6101d4072870df829bc49f909",
        "deepnote_cell_type": "code"
      },
      "outputs": [
        {
          "output_type": "execute_result",
          "execution_count": 22,
          "data": {
            "text/plain": "11465"
          },
          "metadata": {}
        }
      ],
      "execution_count": 22,
      "block_group": "bf1d9d6e2aa0467e85d515659000a0b6"
    },
    {
      "cell_type": "code",
      "source": "filtered_data = data[~data['shot_made_flag'].isna()]\nfiltered_data",
      "metadata": {
        "source_hash": "d1c9ac6b",
        "execution_start": 1697900580023,
        "execution_millis": 328,
        "deepnote_to_be_reexecuted": false,
        "cell_id": "3a39ea6e533344c7ae8da305460ee710",
        "deepnote_cell_type": "code"
      },
      "outputs": [
        {
          "output_type": "execute_result",
          "execution_count": 4,
          "data": {
            "application/vnd.deepnote.dataframe.v3+json": {
              "column_count": 25,
              "row_count": 25697,
              "columns": [
                {
                  "name": "action_type",
                  "dtype": "object",
                  "stats": {
                    "unique_count": 55,
                    "nan_count": 0,
                    "categories": [
                      {
                        "name": "Jump Shot",
                        "count": 15836
                      },
                      {
                        "name": "Layup Shot",
                        "count": 2154
                      },
                      {
                        "name": "53 others",
                        "count": 7707
                      }
                    ]
                  }
                },
                {
                  "name": "combined_shot_type",
                  "dtype": "object",
                  "stats": {
                    "unique_count": 6,
                    "nan_count": 0,
                    "categories": [
                      {
                        "name": "Jump Shot",
                        "count": 19710
                      },
                      {
                        "name": "Layup",
                        "count": 4532
                      },
                      {
                        "name": "4 others",
                        "count": 1455
                      }
                    ]
                  }
                },
                {
                  "name": "game_event_id",
                  "dtype": "int64",
                  "stats": {
                    "unique_count": 618,
                    "nan_count": 0,
                    "min": "2",
                    "max": "653",
                    "histogram": [
                      {
                        "bin_start": 2,
                        "bin_end": 67.1,
                        "count": 4041
                      },
                      {
                        "bin_start": 67.1,
                        "bin_end": 132.2,
                        "count": 3208
                      },
                      {
                        "bin_start": 132.2,
                        "bin_end": 197.29999999999998,
                        "count": 2411
                      },
                      {
                        "bin_start": 197.29999999999998,
                        "bin_end": 262.4,
                        "count": 3743
                      },
                      {
                        "bin_start": 262.4,
                        "bin_end": 327.5,
                        "count": 3885
                      },
                      {
                        "bin_start": 327.5,
                        "bin_end": 392.59999999999997,
                        "count": 3117
                      },
                      {
                        "bin_start": 392.59999999999997,
                        "bin_end": 457.69999999999993,
                        "count": 2833
                      },
                      {
                        "bin_start": 457.69999999999993,
                        "bin_end": 522.8,
                        "count": 1957
                      },
                      {
                        "bin_start": 522.8,
                        "bin_end": 587.9,
                        "count": 453
                      },
                      {
                        "bin_start": 587.9,
                        "bin_end": 653,
                        "count": 49
                      }
                    ]
                  }
                },
                {
                  "name": "game_id",
                  "dtype": "int64"
                },
                {
                  "name": "lat",
                  "dtype": "float64"
                },
                {
                  "name": "loc_x",
                  "dtype": "int64"
                },
                {
                  "name": "loc_y",
                  "dtype": "int64"
                },
                {
                  "name": "lon",
                  "dtype": "float64"
                },
                {
                  "name": "minutes_remaining",
                  "dtype": "int64"
                },
                {
                  "name": "period",
                  "dtype": "int64"
                },
                {
                  "name": "playoffs",
                  "dtype": "int64"
                },
                {
                  "name": "season",
                  "dtype": "object"
                },
                {
                  "name": "seconds_remaining",
                  "dtype": "int64"
                },
                {
                  "name": "shot_distance",
                  "dtype": "int64"
                },
                {
                  "name": "shot_made_flag",
                  "dtype": "float64"
                },
                {
                  "name": "shot_type",
                  "dtype": "object"
                },
                {
                  "name": "shot_zone_area",
                  "dtype": "object"
                },
                {
                  "name": "shot_zone_basic",
                  "dtype": "object"
                },
                {
                  "name": "shot_zone_range",
                  "dtype": "object"
                },
                {
                  "name": "team_id",
                  "dtype": "int64"
                },
                {
                  "name": "team_name",
                  "dtype": "object"
                },
                {
                  "name": "game_date",
                  "dtype": "object"
                },
                {
                  "name": "matchup",
                  "dtype": "object"
                },
                {
                  "name": "opponent",
                  "dtype": "object"
                },
                {
                  "name": "shot_id",
                  "dtype": "int64"
                },
                {
                  "name": "_deepnote_index_column",
                  "dtype": "int64"
                }
              ],
              "rows": [
                {
                  "action_type": "Jump Shot",
                  "combined_shot_type": "Jump Shot",
                  "game_event_id": 12,
                  "game_id": 20000012,
                  "lat": 34.0443,
                  "loc_x": -157,
                  "loc_y": 0,
                  "lon": -118.4268,
                  "minutes_remaining": 10,
                  "period": 1,
                  "playoffs": 0,
                  "season": "2000-01",
                  "seconds_remaining": 22,
                  "shot_distance": 15,
                  "shot_made_flag": 0,
                  "shot_type": "2PT Field Goal",
                  "shot_zone_area": "Left Side(L)",
                  "shot_zone_basic": "Mid-Range",
                  "shot_zone_range": "8-16 ft.",
                  "team_id": 1610612747,
                  "team_name": "Los Angeles Lakers",
                  "game_date": "2000-10-31",
                  "matchup": "LAL @ POR",
                  "opponent": "POR",
                  "shot_id": 2,
                  "_deepnote_index_column": 1
                },
                {
                  "action_type": "Jump Shot",
                  "combined_shot_type": "Jump Shot",
                  "game_event_id": 35,
                  "game_id": 20000012,
                  "lat": 33.9093,
                  "loc_x": -101,
                  "loc_y": 135,
                  "lon": -118.3708,
                  "minutes_remaining": 7,
                  "period": 1,
                  "playoffs": 0,
                  "season": "2000-01",
                  "seconds_remaining": 45,
                  "shot_distance": 16,
                  "shot_made_flag": 1,
                  "shot_type": "2PT Field Goal",
                  "shot_zone_area": "Left Side Center(LC)",
                  "shot_zone_basic": "Mid-Range",
                  "shot_zone_range": "16-24 ft.",
                  "team_id": 1610612747,
                  "team_name": "Los Angeles Lakers",
                  "game_date": "2000-10-31",
                  "matchup": "LAL @ POR",
                  "opponent": "POR",
                  "shot_id": 3,
                  "_deepnote_index_column": 2
                },
                {
                  "action_type": "Jump Shot",
                  "combined_shot_type": "Jump Shot",
                  "game_event_id": 43,
                  "game_id": 20000012,
                  "lat": 33.8693,
                  "loc_x": 138,
                  "loc_y": 175,
                  "lon": -118.1318,
                  "minutes_remaining": 6,
                  "period": 1,
                  "playoffs": 0,
                  "season": "2000-01",
                  "seconds_remaining": 52,
                  "shot_distance": 22,
                  "shot_made_flag": 0,
                  "shot_type": "2PT Field Goal",
                  "shot_zone_area": "Right Side Center(RC)",
                  "shot_zone_basic": "Mid-Range",
                  "shot_zone_range": "16-24 ft.",
                  "team_id": 1610612747,
                  "team_name": "Los Angeles Lakers",
                  "game_date": "2000-10-31",
                  "matchup": "LAL @ POR",
                  "opponent": "POR",
                  "shot_id": 4,
                  "_deepnote_index_column": 3
                },
                {
                  "action_type": "Driving Dunk Shot",
                  "combined_shot_type": "Dunk",
                  "game_event_id": 155,
                  "game_id": 20000012,
                  "lat": 34.0443,
                  "loc_x": 0,
                  "loc_y": 0,
                  "lon": -118.2698,
                  "minutes_remaining": 6,
                  "period": 2,
                  "playoffs": 0,
                  "season": "2000-01",
                  "seconds_remaining": 19,
                  "shot_distance": 0,
                  "shot_made_flag": 1,
                  "shot_type": "2PT Field Goal",
                  "shot_zone_area": "Center(C)",
                  "shot_zone_basic": "Restricted Area",
                  "shot_zone_range": "Less Than 8 ft.",
                  "team_id": 1610612747,
                  "team_name": "Los Angeles Lakers",
                  "game_date": "2000-10-31",
                  "matchup": "LAL @ POR",
                  "opponent": "POR",
                  "shot_id": 5,
                  "_deepnote_index_column": 4
                },
                {
                  "action_type": "Jump Shot",
                  "combined_shot_type": "Jump Shot",
                  "game_event_id": 244,
                  "game_id": 20000012,
                  "lat": 34.0553,
                  "loc_x": -145,
                  "loc_y": -11,
                  "lon": -118.4148,
                  "minutes_remaining": 9,
                  "period": 3,
                  "playoffs": 0,
                  "season": "2000-01",
                  "seconds_remaining": 32,
                  "shot_distance": 14,
                  "shot_made_flag": 0,
                  "shot_type": "2PT Field Goal",
                  "shot_zone_area": "Left Side(L)",
                  "shot_zone_basic": "Mid-Range",
                  "shot_zone_range": "8-16 ft.",
                  "team_id": 1610612747,
                  "team_name": "Los Angeles Lakers",
                  "game_date": "2000-10-31",
                  "matchup": "LAL @ POR",
                  "opponent": "POR",
                  "shot_id": 6,
                  "_deepnote_index_column": 5
                },
                {
                  "action_type": "Layup Shot",
                  "combined_shot_type": "Layup",
                  "game_event_id": 251,
                  "game_id": 20000012,
                  "lat": 34.0443,
                  "loc_x": 0,
                  "loc_y": 0,
                  "lon": -118.2698,
                  "minutes_remaining": 8,
                  "period": 3,
                  "playoffs": 0,
                  "season": "2000-01",
                  "seconds_remaining": 52,
                  "shot_distance": 0,
                  "shot_made_flag": 1,
                  "shot_type": "2PT Field Goal",
                  "shot_zone_area": "Center(C)",
                  "shot_zone_basic": "Restricted Area",
                  "shot_zone_range": "Less Than 8 ft.",
                  "team_id": 1610612747,
                  "team_name": "Los Angeles Lakers",
                  "game_date": "2000-10-31",
                  "matchup": "LAL @ POR",
                  "opponent": "POR",
                  "shot_id": 7,
                  "_deepnote_index_column": 6
                },
                {
                  "action_type": "Jump Shot",
                  "combined_shot_type": "Jump Shot",
                  "game_event_id": 265,
                  "game_id": 20000012,
                  "lat": 33.9363,
                  "loc_x": -65,
                  "loc_y": 108,
                  "lon": -118.3348,
                  "minutes_remaining": 6,
                  "period": 3,
                  "playoffs": 0,
                  "season": "2000-01",
                  "seconds_remaining": 12,
                  "shot_distance": 12,
                  "shot_made_flag": 1,
                  "shot_type": "2PT Field Goal",
                  "shot_zone_area": "Left Side(L)",
                  "shot_zone_basic": "In The Paint (Non-RA)",
                  "shot_zone_range": "8-16 ft.",
                  "team_id": 1610612747,
                  "team_name": "Los Angeles Lakers",
                  "game_date": "2000-10-31",
                  "matchup": "LAL @ POR",
                  "opponent": "POR",
                  "shot_id": 9,
                  "_deepnote_index_column": 8
                },
                {
                  "action_type": "Running Jump Shot",
                  "combined_shot_type": "Jump Shot",
                  "game_event_id": 294,
                  "game_id": 20000012,
                  "lat": 33.9193,
                  "loc_x": -33,
                  "loc_y": 125,
                  "lon": -118.3028,
                  "minutes_remaining": 3,
                  "period": 3,
                  "playoffs": 0,
                  "season": "2000-01",
                  "seconds_remaining": 36,
                  "shot_distance": 12,
                  "shot_made_flag": 0,
                  "shot_type": "2PT Field Goal",
                  "shot_zone_area": "Center(C)",
                  "shot_zone_basic": "In The Paint (Non-RA)",
                  "shot_zone_range": "8-16 ft.",
                  "team_id": 1610612747,
                  "team_name": "Los Angeles Lakers",
                  "game_date": "2000-10-31",
                  "matchup": "LAL @ POR",
                  "opponent": "POR",
                  "shot_id": 10,
                  "_deepnote_index_column": 9
                },
                {
                  "action_type": "Jump Shot",
                  "combined_shot_type": "Jump Shot",
                  "game_event_id": 309,
                  "game_id": 20000012,
                  "lat": 33.8063,
                  "loc_x": -94,
                  "loc_y": 238,
                  "lon": -118.3638,
                  "minutes_remaining": 1,
                  "period": 3,
                  "playoffs": 0,
                  "season": "2000-01",
                  "seconds_remaining": 56,
                  "shot_distance": 25,
                  "shot_made_flag": 0,
                  "shot_type": "3PT Field Goal",
                  "shot_zone_area": "Left Side Center(LC)",
                  "shot_zone_basic": "Above the Break 3",
                  "shot_zone_range": "24+ ft.",
                  "team_id": 1610612747,
                  "team_name": "Los Angeles Lakers",
                  "game_date": "2000-10-31",
                  "matchup": "LAL @ POR",
                  "opponent": "POR",
                  "shot_id": 11,
                  "_deepnote_index_column": 10
                },
                {
                  "action_type": "Jump Shot",
                  "combined_shot_type": "Jump Shot",
                  "game_event_id": 4,
                  "game_id": 20000019,
                  "lat": 33.9173,
                  "loc_x": 121,
                  "loc_y": 127,
                  "lon": -118.1488,
                  "minutes_remaining": 11,
                  "period": 1,
                  "playoffs": 0,
                  "season": "2000-01",
                  "seconds_remaining": 0,
                  "shot_distance": 17,
                  "shot_made_flag": 1,
                  "shot_type": "2PT Field Goal",
                  "shot_zone_area": "Right Side Center(RC)",
                  "shot_zone_basic": "Mid-Range",
                  "shot_zone_range": "16-24 ft.",
                  "team_id": 1610612747,
                  "team_name": "Los Angeles Lakers",
                  "game_date": "2000-11-01",
                  "matchup": "LAL vs. UTA",
                  "opponent": "UTA",
                  "shot_id": 12,
                  "_deepnote_index_column": 11
                }
              ]
            },
            "text/plain": "              action_type combined_shot_type  game_event_id   game_id  \\\n1               Jump Shot          Jump Shot             12  20000012   \n2               Jump Shot          Jump Shot             35  20000012   \n3               Jump Shot          Jump Shot             43  20000012   \n4       Driving Dunk Shot               Dunk            155  20000012   \n5               Jump Shot          Jump Shot            244  20000012   \n...                   ...                ...            ...       ...   \n30691  Driving Layup Shot              Layup            382  49900088   \n30692           Jump Shot          Jump Shot            397  49900088   \n30694   Running Jump Shot          Jump Shot            426  49900088   \n30695           Jump Shot          Jump Shot            448  49900088   \n30696           Jump Shot          Jump Shot            471  49900088   \n\n           lat  loc_x  loc_y       lon  minutes_remaining  period  ...  \\\n1      34.0443   -157      0 -118.4268                 10       1  ...   \n2      33.9093   -101    135 -118.3708                  7       1  ...   \n3      33.8693    138    175 -118.1318                  6       1  ...   \n4      34.0443      0      0 -118.2698                  6       2  ...   \n5      34.0553   -145    -11 -118.4148                  9       3  ...   \n...        ...    ...    ...       ...                ...     ...  ...   \n30691  34.0443      0      0 -118.2698                  7       4  ...   \n30692  33.9963      1     48 -118.2688                  6       4  ...   \n30694  33.8783   -134    166 -118.4038                  3       4  ...   \n30695  33.7773     31    267 -118.2388                  2       4  ...   \n30696  33.9723      1     72 -118.2688                  0       4  ...   \n\n            shot_type         shot_zone_area        shot_zone_basic  \\\n1      2PT Field Goal           Left Side(L)              Mid-Range   \n2      2PT Field Goal   Left Side Center(LC)              Mid-Range   \n3      2PT Field Goal  Right Side Center(RC)              Mid-Range   \n4      2PT Field Goal              Center(C)        Restricted Area   \n5      2PT Field Goal           Left Side(L)              Mid-Range   \n...               ...                    ...                    ...   \n30691  2PT Field Goal              Center(C)        Restricted Area   \n30692  2PT Field Goal              Center(C)  In The Paint (Non-RA)   \n30694  2PT Field Goal   Left Side Center(LC)              Mid-Range   \n30695  3PT Field Goal              Center(C)      Above the Break 3   \n30696  2PT Field Goal              Center(C)  In The Paint (Non-RA)   \n\n       shot_zone_range     team_id           team_name   game_date  \\\n1             8-16 ft.  1610612747  Los Angeles Lakers  2000-10-31   \n2            16-24 ft.  1610612747  Los Angeles Lakers  2000-10-31   \n3            16-24 ft.  1610612747  Los Angeles Lakers  2000-10-31   \n4      Less Than 8 ft.  1610612747  Los Angeles Lakers  2000-10-31   \n5             8-16 ft.  1610612747  Los Angeles Lakers  2000-10-31   \n...                ...         ...                 ...         ...   \n30691  Less Than 8 ft.  1610612747  Los Angeles Lakers  2000-06-19   \n30692  Less Than 8 ft.  1610612747  Los Angeles Lakers  2000-06-19   \n30694        16-24 ft.  1610612747  Los Angeles Lakers  2000-06-19   \n30695          24+ ft.  1610612747  Los Angeles Lakers  2000-06-19   \n30696  Less Than 8 ft.  1610612747  Los Angeles Lakers  2000-06-19   \n\n           matchup opponent  shot_id  \n1        LAL @ POR      POR        2  \n2        LAL @ POR      POR        3  \n3        LAL @ POR      POR        4  \n4        LAL @ POR      POR        5  \n5        LAL @ POR      POR        6  \n...            ...      ...      ...  \n30691  LAL vs. IND      IND    30692  \n30692  LAL vs. IND      IND    30693  \n30694  LAL vs. IND      IND    30695  \n30695  LAL vs. IND      IND    30696  \n30696  LAL vs. IND      IND    30697  \n\n[25697 rows x 25 columns]",
            "text/html": "<div>\n<style scoped>\n    .dataframe tbody tr th:only-of-type {\n        vertical-align: middle;\n    }\n\n    .dataframe tbody tr th {\n        vertical-align: top;\n    }\n\n    .dataframe thead th {\n        text-align: right;\n    }\n</style>\n<table border=\"1\" class=\"dataframe\">\n  <thead>\n    <tr style=\"text-align: right;\">\n      <th></th>\n      <th>action_type</th>\n      <th>combined_shot_type</th>\n      <th>game_event_id</th>\n      <th>game_id</th>\n      <th>lat</th>\n      <th>loc_x</th>\n      <th>loc_y</th>\n      <th>lon</th>\n      <th>minutes_remaining</th>\n      <th>period</th>\n      <th>...</th>\n      <th>shot_type</th>\n      <th>shot_zone_area</th>\n      <th>shot_zone_basic</th>\n      <th>shot_zone_range</th>\n      <th>team_id</th>\n      <th>team_name</th>\n      <th>game_date</th>\n      <th>matchup</th>\n      <th>opponent</th>\n      <th>shot_id</th>\n    </tr>\n  </thead>\n  <tbody>\n    <tr>\n      <th>1</th>\n      <td>Jump Shot</td>\n      <td>Jump Shot</td>\n      <td>12</td>\n      <td>20000012</td>\n      <td>34.0443</td>\n      <td>-157</td>\n      <td>0</td>\n      <td>-118.4268</td>\n      <td>10</td>\n      <td>1</td>\n      <td>...</td>\n      <td>2PT Field Goal</td>\n      <td>Left Side(L)</td>\n      <td>Mid-Range</td>\n      <td>8-16 ft.</td>\n      <td>1610612747</td>\n      <td>Los Angeles Lakers</td>\n      <td>2000-10-31</td>\n      <td>LAL @ POR</td>\n      <td>POR</td>\n      <td>2</td>\n    </tr>\n    <tr>\n      <th>2</th>\n      <td>Jump Shot</td>\n      <td>Jump Shot</td>\n      <td>35</td>\n      <td>20000012</td>\n      <td>33.9093</td>\n      <td>-101</td>\n      <td>135</td>\n      <td>-118.3708</td>\n      <td>7</td>\n      <td>1</td>\n      <td>...</td>\n      <td>2PT Field Goal</td>\n      <td>Left Side Center(LC)</td>\n      <td>Mid-Range</td>\n      <td>16-24 ft.</td>\n      <td>1610612747</td>\n      <td>Los Angeles Lakers</td>\n      <td>2000-10-31</td>\n      <td>LAL @ POR</td>\n      <td>POR</td>\n      <td>3</td>\n    </tr>\n    <tr>\n      <th>3</th>\n      <td>Jump Shot</td>\n      <td>Jump Shot</td>\n      <td>43</td>\n      <td>20000012</td>\n      <td>33.8693</td>\n      <td>138</td>\n      <td>175</td>\n      <td>-118.1318</td>\n      <td>6</td>\n      <td>1</td>\n      <td>...</td>\n      <td>2PT Field Goal</td>\n      <td>Right Side Center(RC)</td>\n      <td>Mid-Range</td>\n      <td>16-24 ft.</td>\n      <td>1610612747</td>\n      <td>Los Angeles Lakers</td>\n      <td>2000-10-31</td>\n      <td>LAL @ POR</td>\n      <td>POR</td>\n      <td>4</td>\n    </tr>\n    <tr>\n      <th>4</th>\n      <td>Driving Dunk Shot</td>\n      <td>Dunk</td>\n      <td>155</td>\n      <td>20000012</td>\n      <td>34.0443</td>\n      <td>0</td>\n      <td>0</td>\n      <td>-118.2698</td>\n      <td>6</td>\n      <td>2</td>\n      <td>...</td>\n      <td>2PT Field Goal</td>\n      <td>Center(C)</td>\n      <td>Restricted Area</td>\n      <td>Less Than 8 ft.</td>\n      <td>1610612747</td>\n      <td>Los Angeles Lakers</td>\n      <td>2000-10-31</td>\n      <td>LAL @ POR</td>\n      <td>POR</td>\n      <td>5</td>\n    </tr>\n    <tr>\n      <th>5</th>\n      <td>Jump Shot</td>\n      <td>Jump Shot</td>\n      <td>244</td>\n      <td>20000012</td>\n      <td>34.0553</td>\n      <td>-145</td>\n      <td>-11</td>\n      <td>-118.4148</td>\n      <td>9</td>\n      <td>3</td>\n      <td>...</td>\n      <td>2PT Field Goal</td>\n      <td>Left Side(L)</td>\n      <td>Mid-Range</td>\n      <td>8-16 ft.</td>\n      <td>1610612747</td>\n      <td>Los Angeles Lakers</td>\n      <td>2000-10-31</td>\n      <td>LAL @ POR</td>\n      <td>POR</td>\n      <td>6</td>\n    </tr>\n    <tr>\n      <th>...</th>\n      <td>...</td>\n      <td>...</td>\n      <td>...</td>\n      <td>...</td>\n      <td>...</td>\n      <td>...</td>\n      <td>...</td>\n      <td>...</td>\n      <td>...</td>\n      <td>...</td>\n      <td>...</td>\n      <td>...</td>\n      <td>...</td>\n      <td>...</td>\n      <td>...</td>\n      <td>...</td>\n      <td>...</td>\n      <td>...</td>\n      <td>...</td>\n      <td>...</td>\n      <td>...</td>\n    </tr>\n    <tr>\n      <th>30691</th>\n      <td>Driving Layup Shot</td>\n      <td>Layup</td>\n      <td>382</td>\n      <td>49900088</td>\n      <td>34.0443</td>\n      <td>0</td>\n      <td>0</td>\n      <td>-118.2698</td>\n      <td>7</td>\n      <td>4</td>\n      <td>...</td>\n      <td>2PT Field Goal</td>\n      <td>Center(C)</td>\n      <td>Restricted Area</td>\n      <td>Less Than 8 ft.</td>\n      <td>1610612747</td>\n      <td>Los Angeles Lakers</td>\n      <td>2000-06-19</td>\n      <td>LAL vs. IND</td>\n      <td>IND</td>\n      <td>30692</td>\n    </tr>\n    <tr>\n      <th>30692</th>\n      <td>Jump Shot</td>\n      <td>Jump Shot</td>\n      <td>397</td>\n      <td>49900088</td>\n      <td>33.9963</td>\n      <td>1</td>\n      <td>48</td>\n      <td>-118.2688</td>\n      <td>6</td>\n      <td>4</td>\n      <td>...</td>\n      <td>2PT Field Goal</td>\n      <td>Center(C)</td>\n      <td>In The Paint (Non-RA)</td>\n      <td>Less Than 8 ft.</td>\n      <td>1610612747</td>\n      <td>Los Angeles Lakers</td>\n      <td>2000-06-19</td>\n      <td>LAL vs. IND</td>\n      <td>IND</td>\n      <td>30693</td>\n    </tr>\n    <tr>\n      <th>30694</th>\n      <td>Running Jump Shot</td>\n      <td>Jump Shot</td>\n      <td>426</td>\n      <td>49900088</td>\n      <td>33.8783</td>\n      <td>-134</td>\n      <td>166</td>\n      <td>-118.4038</td>\n      <td>3</td>\n      <td>4</td>\n      <td>...</td>\n      <td>2PT Field Goal</td>\n      <td>Left Side Center(LC)</td>\n      <td>Mid-Range</td>\n      <td>16-24 ft.</td>\n      <td>1610612747</td>\n      <td>Los Angeles Lakers</td>\n      <td>2000-06-19</td>\n      <td>LAL vs. IND</td>\n      <td>IND</td>\n      <td>30695</td>\n    </tr>\n    <tr>\n      <th>30695</th>\n      <td>Jump Shot</td>\n      <td>Jump Shot</td>\n      <td>448</td>\n      <td>49900088</td>\n      <td>33.7773</td>\n      <td>31</td>\n      <td>267</td>\n      <td>-118.2388</td>\n      <td>2</td>\n      <td>4</td>\n      <td>...</td>\n      <td>3PT Field Goal</td>\n      <td>Center(C)</td>\n      <td>Above the Break 3</td>\n      <td>24+ ft.</td>\n      <td>1610612747</td>\n      <td>Los Angeles Lakers</td>\n      <td>2000-06-19</td>\n      <td>LAL vs. IND</td>\n      <td>IND</td>\n      <td>30696</td>\n    </tr>\n    <tr>\n      <th>30696</th>\n      <td>Jump Shot</td>\n      <td>Jump Shot</td>\n      <td>471</td>\n      <td>49900088</td>\n      <td>33.9723</td>\n      <td>1</td>\n      <td>72</td>\n      <td>-118.2688</td>\n      <td>0</td>\n      <td>4</td>\n      <td>...</td>\n      <td>2PT Field Goal</td>\n      <td>Center(C)</td>\n      <td>In The Paint (Non-RA)</td>\n      <td>Less Than 8 ft.</td>\n      <td>1610612747</td>\n      <td>Los Angeles Lakers</td>\n      <td>2000-06-19</td>\n      <td>LAL vs. IND</td>\n      <td>IND</td>\n      <td>30697</td>\n    </tr>\n  </tbody>\n</table>\n<p>25697 rows × 25 columns</p>\n</div>"
          },
          "metadata": {}
        }
      ],
      "execution_count": 4,
      "block_group": "b679eb06cbec4c7394768b5e183ab7ce"
    },
    {
      "cell_type": "markdown",
      "source": "### 2. Determine a eficiência dos arremessos.",
      "metadata": {
        "formattedRanges": [],
        "cell_id": "89b2f97f415c453293f1ec75d38e8a7d",
        "deepnote_cell_type": "text-cell-h3"
      },
      "block_group": "3eb653955a5142f38042f8bd080a0229"
    },
    {
      "cell_type": "code",
      "source": "# total_shot = sum(data.shot_made_flag.value_counts())\ntotal_shot = filtered_data.shape[0]\ntotal_shot\n\n\nright_shot = data.shot_made_flag.value_counts()\n# efficiency = right_shot[1]/total_shot\nefficiency = data.shot_made_flag.mean()\nprint(f'A eficiência do Kobe Bryant nos arremessos é de {efficiency*100:.1f}%.')",
      "metadata": {
        "source_hash": "f416bb1c",
        "execution_start": 1697900984895,
        "execution_millis": 50,
        "deepnote_to_be_reexecuted": false,
        "cell_id": "b37e6bd2ec6b446db1dbc1196b7297ac",
        "deepnote_cell_type": "code"
      },
      "outputs": [
        {
          "name": "stdout",
          "text": "A eficiência do Kobe Bryant nos arremessos é de 44.6%.\n",
          "output_type": "stream"
        }
      ],
      "execution_count": 27,
      "block_group": "06463bbf6dee414a9c44b79fa42f2400"
    },
    {
      "cell_type": "markdown",
      "source": "### 3. Qual foi o arremesso convertido mais distante?",
      "metadata": {
        "formattedRanges": [],
        "cell_id": "90ce24c0ec6f48e98d3ceb3a4982d92c",
        "deepnote_cell_type": "text-cell-h3"
      },
      "block_group": "343e3812ad544223af8ed0aee4a7f622"
    },
    {
      "cell_type": "code",
      "source": "# 1 ft = 0.3048 metros\n\nfarest = filtered_data.groupby('shot_made_flag').shot_distance.max().iat[1]*0.3048\nfarest\nprint(f'O arremesso convertido de maior distância foi de {round(farest,1)} metros.')",
      "metadata": {
        "source_hash": "fc79b9bd",
        "execution_start": 1697900620387,
        "execution_millis": 17,
        "deepnote_to_be_reexecuted": false,
        "cell_id": "dc085b3354f44b4dbdadfa6a7e6d90d7",
        "deepnote_cell_type": "code"
      },
      "outputs": [
        {
          "name": "stdout",
          "text": "O arremesso convertido de maior distância foi de 13.1 metros.\n",
          "output_type": "stream"
        }
      ],
      "execution_count": 6,
      "block_group": "3f3d130563a04b699e9b385cad068461"
    },
    {
      "cell_type": "markdown",
      "source": "### 4. Qual o quarto do jogo que o Kobe Bryant se mostra mais eficiente?",
      "metadata": {
        "formattedRanges": [],
        "cell_id": "ce09aed616174f8e8eec1d51a2e9a62e",
        "deepnote_cell_type": "text-cell-h3"
      },
      "block_group": "2ac8245edbf1460dbfff02eb65c81f2d"
    },
    {
      "cell_type": "code",
      "source": "period_efficiency = filtered_data.groupby('period').shot_made_flag.mean().idxmax()\n\nprint('A maior eficiência de Kobe foi no quarto de jogo igual a 6, ou seja, equivalente ao 2º tempo da prorrogação.')",
      "metadata": {
        "source_hash": "6b7e33f0",
        "execution_start": 1697900623576,
        "execution_millis": 33,
        "deepnote_to_be_reexecuted": false,
        "cell_id": "870597c8eaca4636935b09e3d22e7cca",
        "deepnote_cell_type": "code"
      },
      "outputs": [
        {
          "name": "stdout",
          "text": "A maior eficiência de Kobe foi no quarto de jogo igual a 6, ou seja, equivalente ao 2º tempo da prorrogação.\n",
          "output_type": "stream"
        }
      ],
      "execution_count": 7,
      "block_group": "38a441768c2f44158d4136dd247e4f3b"
    },
    {
      "cell_type": "markdown",
      "source": "### 5. Em qual tipo de arremesso o Kobe Bryant é mais eficiente?",
      "metadata": {
        "formattedRanges": [],
        "cell_id": "365fc67cab9b40489ebc241434d5aea1",
        "deepnote_cell_type": "text-cell-h3"
      },
      "block_group": "0fe2717ad5c246c096e998678bf554d0"
    },
    {
      "cell_type": "code",
      "source": "shot_type = filtered_data.groupby('combined_shot_type').shot_made_flag.mean().idxmax()\nprint(f'Arremesso do tipo {shot_type}.')",
      "metadata": {
        "source_hash": "9956a217",
        "execution_start": 1697900626974,
        "execution_millis": 19,
        "deepnote_to_be_reexecuted": false,
        "cell_id": "d2855868708c4c299b9a40540cdc0014",
        "deepnote_cell_type": "code"
      },
      "outputs": [
        {
          "name": "stdout",
          "text": "Arremesso do tipo Dunk.\n",
          "output_type": "stream"
        }
      ],
      "execution_count": 8,
      "block_group": "e7522c0246e24ec083a30289ac84bc06"
    },
    {
      "cell_type": "markdown",
      "source": "### 6. Qual foi a melhor temporada do Kobe Bryant em relação ao percentual de cestas convertidas?",
      "metadata": {
        "formattedRanges": [],
        "cell_id": "9a6e97396c394fba8fa9823cb471faa4",
        "deepnote_cell_type": "text-cell-h3"
      },
      "block_group": "8273f82754994340947cdf42fe77fdfa"
    },
    {
      "cell_type": "code",
      "source": "best_season = filtered_data.groupby('season').shot_made_flag.mean().idxmax()\nbest_value = filtered_data.groupby('season').shot_made_flag.mean().max()\n\nprint(f'A melhor temporada de Bryan foi {best_season} com aproveitamento de {best_value * 100:.1f}%.')",
      "metadata": {
        "source_hash": "e09b7d05",
        "execution_start": 1697900630893,
        "execution_millis": 29,
        "deepnote_to_be_reexecuted": false,
        "cell_id": "e2ad4fb64aa347fba135d1f2838a44af",
        "deepnote_cell_type": "code"
      },
      "outputs": [
        {
          "name": "stdout",
          "text": "A melhor temporada de Bryan foi 2007-08 com aproveitamento de 46.8%.\n",
          "output_type": "stream"
        }
      ],
      "execution_count": 9,
      "block_group": "20fdb5c83aa840cba2a29f02bab45fb1"
    },
    {
      "cell_type": "markdown",
      "source": "### 7. Apresente uma contagem de arremessos por temporada, organizados por tipo.",
      "metadata": {
        "formattedRanges": [],
        "cell_id": "d2c7c8b1afde4ea1915fba9f4d9fb7dc",
        "deepnote_cell_type": "text-cell-h3"
      },
      "block_group": "cecd11bfe6ce4a9dbd2b0ced46efd5b1"
    },
    {
      "cell_type": "code",
      "source": "season = filtered_data.groupby('season').shot_made_flag\ncombined_type = filtered_data.groupby('combined_shot_type').shot_made_flag\nshot_season = (filtered_data['season'] + ' | ' + filtered_data['combined_shot_type']).value_counts()\nshot_season\n",
      "metadata": {
        "source_hash": "89fb6a0b",
        "execution_start": 1697900633679,
        "execution_millis": 14,
        "deepnote_to_be_reexecuted": false,
        "cell_id": "3741938e5cba45a49656200e4481cf88",
        "deepnote_cell_type": "code"
      },
      "outputs": [
        {
          "output_type": "execute_result",
          "execution_count": 10,
          "data": {
            "text/plain": "2005-06 | Jump Shot    1526\n2002-03 | Jump Shot    1438\n2008-09 | Jump Shot    1437\n2009-10 | Jump Shot    1379\n2007-08 | Jump Shot    1349\n                       ... \n2014-15 | Hook Shot       1\n2014-15 | Tip Shot        1\n2005-06 | Bank Shot       1\n2013-14 | Bank Shot       1\n2013-14 | Hook Shot       1\nLength: 107, dtype: int64"
          },
          "metadata": {}
        }
      ],
      "execution_count": 10,
      "block_group": "12ff8448c2284e40aa2022dff79d7f59"
    },
    {
      "cell_type": "markdown",
      "source": "### 8. Faça dois gráficos: posição em quadra dos arremessos perdidos x posição em quadra dos arremessos acertados (o eixo X é a largura da quadra, e o Y é a distância para o fundo de quadra).",
      "metadata": {
        "formattedRanges": [],
        "cell_id": "4e366aef94e54e98a306bdd4268bcf75",
        "deepnote_cell_type": "text-cell-h3"
      },
      "block_group": "9dc7e975ec244a018343e5e8c02c1f89"
    },
    {
      "cell_type": "code",
      "source": "x_position_unconverted_shots = filtered_data.query('shot_made_flag == 0').loc_x*0.3048\ny_position_unconverted_shots = filtered_data.query('shot_made_flag == 0').loc_y*0.3048\n\nplt.title('Posição em quadra dos arremessos não convertidos',fontsize=10)\n\nplt.xlabel('posição em relação ao comprimento da quadra (metros)',fontsize=10)\nplt.ylabel('posição em relação a largura da quadra (metros)',fontsize=10)\n\nplt.rcParams['figure.figsize']=(10,6)\ngraphic_unconverted_shots = plt.scatter(x_position_unconverted_shots,y_position_unconverted_shots,color='red')\nplt.show()",
      "metadata": {
        "source_hash": "6214c862",
        "execution_start": 1697901065623,
        "execution_millis": 600,
        "deepnote_to_be_reexecuted": false,
        "cell_id": "3af7abd2cf964358a7531cd64cb7e4a8",
        "deepnote_cell_type": "code"
      },
      "outputs": [
        {
          "data": {
            "text/plain": "<Figure size 1000x600 with 1 Axes>",
            "image/png": "[encoded data removed]"
          },
          "metadata": {
            "image/png": {
              "width": 850,
              "height": 544
            }
          },
          "output_type": "display_data"
        }
      ],
      "execution_count": 29,
      "block_group": "2a0b345a7c4043e8964654ae9cffb05f"
    },
    {
      "cell_type": "code",
      "source": "x_position_converted_shots = filtered_data.query('shot_made_flag == 1').loc_x*0.3048\ny_position_converted_shots = filtered_data.query('shot_made_flag == 1').loc_y*0.3048\n\n\nplt.title('Posição em quadra dos arremessos convertidos',fontsize=10)\n\nplt.xlabel('posição em relação ao comprimento da quadra (metros)',fontsize=10)\nplt.ylabel('posição em relação a largura da quadra (metros)',fontsize=10)\n\nplt.rcParams['figure.figsize']=(10,6)\ngraphic_converted_shots = plt.scatter(x_position_converted_shots,y_position_converted_shots)\nplt.show()",
      "metadata": {
        "source_hash": "39ce7fc9",
        "execution_start": 1697900642694,
        "execution_millis": 688,
        "deepnote_to_be_reexecuted": false,
        "cell_id": "d4af5b8e5946456bb76b7b05829cb6d4",
        "deepnote_cell_type": "code"
      },
      "outputs": [
        {
          "data": {
            "text/plain": "<Figure size 1000x600 with 1 Axes>",
            "image/png": "[encoded data removed]"
          },
          "metadata": {
            "image/png": {
              "width": 853,
              "height": 544
            }
          },
          "output_type": "display_data"
        }
      ],
      "execution_count": 12,
      "block_group": "040d25fb8a734ab2837e54fa549da71c"
    },
    {
      "cell_type": "markdown",
      "source": "### 9. Encontre a distância média dos arremessos convertidos e dos arremessos não-convertidos?",
      "metadata": {
        "formattedRanges": [],
        "cell_id": "59de91cd41444cb09705dfcf56692f39",
        "deepnote_cell_type": "text-cell-h3"
      },
      "block_group": "1c2b86a9dc2c4669b822727f45a717e0"
    },
    {
      "cell_type": "code",
      "source": "# avg_converted_distance = filtered_data.groupby('shot_made_flag').shot_distance.mean().iat[1]*0.3048\n# avg_unconverted_distance = filtered_data.groupby('shot_made_flag').shot_distance.mean().iat[0]*0.3048\n\navg_converted_distance = filtered_data.query('shot_made_flag ==1').shot_distance.mean()*0.3048\navg_unconverted_distance = filtered_data.query('shot_made_flag ==0').shot_distance.mean()*0.3048\n\n\nprint(f'A distância média dos arremessos convertidos e não convertidos foram respectivamente iguais a {round(avg_converted_distance,2)} metros e {round(avg_unconverted_distance,2)} metros.')",
      "metadata": {
        "source_hash": "fc9aa1cf",
        "execution_start": 1697900653224,
        "execution_millis": 32,
        "deepnote_to_be_reexecuted": false,
        "cell_id": "c4cecabe3e594416898b5feff2c6916f",
        "deepnote_cell_type": "code"
      },
      "outputs": [
        {
          "name": "stdout",
          "text": "A distância média dos arremessos convertidos e não convertidos foram respectivamente iguais a 3.47 metros e 4.61 metros.\n",
          "output_type": "stream"
        }
      ],
      "execution_count": 13,
      "block_group": "499fea320b934890913f7789fb715fcb"
    },
    {
      "cell_type": "markdown",
      "source": "<a style='text-decoration:none;line-height:16px;display:flex;color:#5B5B62;padding:10px;justify-content:end;' href='https://deepnote.com?utm_source=created-in-deepnote-cell&projectId=23f6b665-35f8-4539-b417-27d4dbc28d24' target=\"_blank\">\n<img alt='Created in deepnote.com' style='display:inline;max-height:16px;margin:0px;margin-right:7.5px;' src='data:image/svg+xml;base64,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' > </img>\nCreated in <span style='font-weight:600;margin-left:4px;'>Deepnote</span></a>",
      "metadata": {
        "created_in_deepnote_cell": true,
        "deepnote_cell_type": "markdown"
      }
    }
  ],
  "nbformat": 4,
  "nbformat_minor": 0,
  "metadata": {
    "deepnote": {},
    "orig_nbformat": 2,
    "deepnote_notebook_id": "4b6d549d722f4db2923bb65e0467e223",
    "deepnote_execution_queue": []
  }
}
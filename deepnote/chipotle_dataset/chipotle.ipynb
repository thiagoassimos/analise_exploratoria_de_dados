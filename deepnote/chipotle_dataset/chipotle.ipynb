{
  "cells": [
    {
      "cell_type": "markdown",
      "source": "# Usando os dados dessa base de dados, você irá:",
      "metadata": {
        "formattedRanges": [],
        "deepnote_app_coordinates": {
          "h": 5,
          "w": 12,
          "x": 0,
          "y": 0
        },
        "cell_id": "e9457a0feb8b481abda06b6676523b27",
        "deepnote_cell_type": "text-cell-h1"
      },
      "block_group": "7c0e910137d2477da308524c44ddd1f4"
    },
    {
      "cell_type": "markdown",
      "source": "### a. Importe os dados em notebook e atribua à variável chipo.",
      "metadata": {
        "formattedRanges": [],
        "deepnote_app_coordinates": {
          "h": 5,
          "w": 12,
          "x": 0,
          "y": 0
        },
        "cell_id": "dbe98d484ded4547a64b3693e31ce29d",
        "deepnote_cell_type": "text-cell-h3"
      },
      "block_group": "441d011199a64990b94d09e4c6d596e6"
    },
    {
      "cell_type": "code",
      "source": "import pandas as pd\nimport numpy as np\nimport matplotlib.pyplot as plt\nfrom scipy.stats import pearsonr",
      "metadata": {
        "source_hash": "ac808369",
        "execution_start": 1698155827894,
        "execution_millis": 1993,
        "deepnote_app_coordinates": {
          "h": 5,
          "w": 12,
          "x": 0,
          "y": 0
        },
        "deepnote_to_be_reexecuted": false,
        "cell_id": "894099a4d29f44f9becda0cf4b9a0134",
        "deepnote_cell_type": "code"
      },
      "outputs": [],
      "execution_count": 1,
      "block_group": "3874248089a94be587cb9267410982c8"
    },
    {
      "cell_type": "code",
      "source": "chipo = pd.read_csv(\"https://raw.githubusercontent.com/justmarkham/DAT8/master/data/chipotle.tsv\",sep='\\t')\n\nchipo",
      "metadata": {
        "source_hash": "3585fb83",
        "execution_start": 1698155829883,
        "execution_millis": 613,
        "deepnote_app_coordinates": {
          "h": 5,
          "w": 12,
          "x": 0,
          "y": 0
        },
        "deepnote_to_be_reexecuted": false,
        "cell_id": "7277350219264c8fa7c1cb9c454594a5",
        "deepnote_cell_type": "code"
      },
      "outputs": [
        {
          "output_type": "execute_result",
          "execution_count": 2,
          "data": {
            "application/vnd.deepnote.dataframe.v3+json": {
              "column_count": 5,
              "row_count": 4622,
              "columns": [
                {
                  "name": "order_id",
                  "dtype": "int64",
                  "stats": {
                    "unique_count": 1834,
                    "nan_count": 0,
                    "min": "1",
                    "max": "1834",
                    "histogram": [
                      {
                        "bin_start": 1,
                        "bin_end": 184.3,
                        "count": 426
                      },
                      {
                        "bin_start": 184.3,
                        "bin_end": 367.6,
                        "count": 464
                      },
                      {
                        "bin_start": 367.6,
                        "bin_end": 550.9000000000001,
                        "count": 459
                      },
                      {
                        "bin_start": 550.9000000000001,
                        "bin_end": 734.2,
                        "count": 468
                      },
                      {
                        "bin_start": 734.2,
                        "bin_end": 917.5,
                        "count": 469
                      },
                      {
                        "bin_start": 917.5,
                        "bin_end": 1100.8000000000002,
                        "count": 486
                      },
                      {
                        "bin_start": 1100.8000000000002,
                        "bin_end": 1284.1000000000001,
                        "count": 441
                      },
                      {
                        "bin_start": 1284.1000000000001,
                        "bin_end": 1467.4,
                        "count": 455
                      },
                      {
                        "bin_start": 1467.4,
                        "bin_end": 1650.7,
                        "count": 453
                      },
                      {
                        "bin_start": 1650.7,
                        "bin_end": 1834,
                        "count": 501
                      }
                    ]
                  }
                },
                {
                  "name": "quantity",
                  "dtype": "int64",
                  "stats": {
                    "unique_count": 9,
                    "nan_count": 0,
                    "min": "1",
                    "max": "15",
                    "histogram": [
                      {
                        "bin_start": 1,
                        "bin_end": 2.4,
                        "count": 4579
                      },
                      {
                        "bin_start": 2.4,
                        "bin_end": 3.8,
                        "count": 28
                      },
                      {
                        "bin_start": 3.8,
                        "bin_end": 5.199999999999999,
                        "count": 11
                      },
                      {
                        "bin_start": 5.199999999999999,
                        "bin_end": 6.6,
                        "count": 0
                      },
                      {
                        "bin_start": 6.6,
                        "bin_end": 8,
                        "count": 1
                      },
                      {
                        "bin_start": 8,
                        "bin_end": 9.399999999999999,
                        "count": 1
                      },
                      {
                        "bin_start": 9.399999999999999,
                        "bin_end": 10.799999999999999,
                        "count": 1
                      },
                      {
                        "bin_start": 10.799999999999999,
                        "bin_end": 12.2,
                        "count": 0
                      },
                      {
                        "bin_start": 12.2,
                        "bin_end": 13.6,
                        "count": 0
                      },
                      {
                        "bin_start": 13.6,
                        "bin_end": 15,
                        "count": 1
                      }
                    ]
                  }
                },
                {
                  "name": "item_name",
                  "dtype": "object",
                  "stats": {
                    "unique_count": 50,
                    "nan_count": 0,
                    "categories": [
                      {
                        "name": "Chicken Bowl",
                        "count": 726
                      },
                      {
                        "name": "Chicken Burrito",
                        "count": 553
                      },
                      {
                        "name": "48 others",
                        "count": 3343
                      }
                    ]
                  }
                },
                {
                  "name": "choice_description",
                  "dtype": "object",
                  "stats": {
                    "unique_count": 1043,
                    "nan_count": 1246,
                    "categories": [
                      {
                        "name": "[Diet Coke]",
                        "count": 134
                      },
                      {
                        "name": "1042 others",
                        "count": 3242
                      },
                      {
                        "name": "Missing",
                        "count": 1246
                      }
                    ]
                  }
                },
                {
                  "name": "item_price",
                  "dtype": "object",
                  "stats": {
                    "unique_count": 78,
                    "nan_count": 0,
                    "categories": [
                      {
                        "name": "$8.75 ",
                        "count": 730
                      },
                      {
                        "name": "$11.25 ",
                        "count": 521
                      },
                      {
                        "name": "76 others",
                        "count": 3371
                      }
                    ]
                  }
                },
                {
                  "name": "_deepnote_index_column",
                  "dtype": "int64"
                }
              ],
              "rows": [
                {
                  "order_id": 1,
                  "quantity": 1,
                  "item_name": "Chips and Fresh Tomato Salsa",
                  "choice_description": "nan",
                  "item_price": "$2.39 ",
                  "_deepnote_index_column": 0
                },
                {
                  "order_id": 1,
                  "quantity": 1,
                  "item_name": "Izze",
                  "choice_description": "[Clementine]",
                  "item_price": "$3.39 ",
                  "_deepnote_index_column": 1
                },
                {
                  "order_id": 1,
                  "quantity": 1,
                  "item_name": "Nantucket Nectar",
                  "choice_description": "[Apple]",
                  "item_price": "$3.39 ",
                  "_deepnote_index_column": 2
                },
                {
                  "order_id": 1,
                  "quantity": 1,
                  "item_name": "Chips and Tomatillo-Green Chili Salsa",
                  "choice_description": "nan",
                  "item_price": "$2.39 ",
                  "_deepnote_index_column": 3
                },
                {
                  "order_id": 2,
                  "quantity": 2,
                  "item_name": "Chicken Bowl",
                  "choice_description": "[Tomatillo-Red Chili Salsa (Hot), [Black Beans, Rice, Cheese, Sour Cream]]",
                  "item_price": "$16.98 ",
                  "_deepnote_index_column": 4
                },
                {
                  "order_id": 3,
                  "quantity": 1,
                  "item_name": "Chicken Bowl",
                  "choice_description": "[Fresh Tomato Salsa (Mild), [Rice, Cheese, Sour Cream, Guacamole, Lettuce]]",
                  "item_price": "$10.98 ",
                  "_deepnote_index_column": 5
                },
                {
                  "order_id": 3,
                  "quantity": 1,
                  "item_name": "Side of Chips",
                  "choice_description": "nan",
                  "item_price": "$1.69 ",
                  "_deepnote_index_column": 6
                },
                {
                  "order_id": 4,
                  "quantity": 1,
                  "item_name": "Steak Burrito",
                  "choice_description": "[Tomatillo Red Chili Salsa, [Fajita Vegetables, Black Beans, Pinto Beans, Cheese, Sour Cream, Guacamole, Lettuce]]",
                  "item_price": "$11.75 ",
                  "_deepnote_index_column": 7
                },
                {
                  "order_id": 4,
                  "quantity": 1,
                  "item_name": "Steak Soft Tacos",
                  "choice_description": "[Tomatillo Green Chili Salsa, [Pinto Beans, Cheese, Sour Cream, Lettuce]]",
                  "item_price": "$9.25 ",
                  "_deepnote_index_column": 8
                },
                {
                  "order_id": 5,
                  "quantity": 1,
                  "item_name": "Steak Burrito",
                  "choice_description": "[Fresh Tomato Salsa, [Rice, Black Beans, Pinto Beans, Cheese, Sour Cream, Lettuce]]",
                  "item_price": "$9.25 ",
                  "_deepnote_index_column": 9
                }
              ]
            },
            "text/plain": "      order_id  quantity                              item_name  \\\n0            1         1           Chips and Fresh Tomato Salsa   \n1            1         1                                   Izze   \n2            1         1                       Nantucket Nectar   \n3            1         1  Chips and Tomatillo-Green Chili Salsa   \n4            2         2                           Chicken Bowl   \n...        ...       ...                                    ...   \n4617      1833         1                          Steak Burrito   \n4618      1833         1                          Steak Burrito   \n4619      1834         1                     Chicken Salad Bowl   \n4620      1834         1                     Chicken Salad Bowl   \n4621      1834         1                     Chicken Salad Bowl   \n\n                                     choice_description item_price  \n0                                                   NaN     $2.39   \n1                                          [Clementine]     $3.39   \n2                                               [Apple]     $3.39   \n3                                                   NaN     $2.39   \n4     [Tomatillo-Red Chili Salsa (Hot), [Black Beans...    $16.98   \n...                                                 ...        ...  \n4617  [Fresh Tomato Salsa, [Rice, Black Beans, Sour ...    $11.75   \n4618  [Fresh Tomato Salsa, [Rice, Sour Cream, Cheese...    $11.75   \n4619  [Fresh Tomato Salsa, [Fajita Vegetables, Pinto...    $11.25   \n4620  [Fresh Tomato Salsa, [Fajita Vegetables, Lettu...     $8.75   \n4621  [Fresh Tomato Salsa, [Fajita Vegetables, Pinto...     $8.75   \n\n[4622 rows x 5 columns]",
            "text/html": "<div>\n<style scoped>\n    .dataframe tbody tr th:only-of-type {\n        vertical-align: middle;\n    }\n\n    .dataframe tbody tr th {\n        vertical-align: top;\n    }\n\n    .dataframe thead th {\n        text-align: right;\n    }\n</style>\n<table border=\"1\" class=\"dataframe\">\n  <thead>\n    <tr style=\"text-align: right;\">\n      <th></th>\n      <th>order_id</th>\n      <th>quantity</th>\n      <th>item_name</th>\n      <th>choice_description</th>\n      <th>item_price</th>\n    </tr>\n  </thead>\n  <tbody>\n    <tr>\n      <th>0</th>\n      <td>1</td>\n      <td>1</td>\n      <td>Chips and Fresh Tomato Salsa</td>\n      <td>NaN</td>\n      <td>$2.39</td>\n    </tr>\n    <tr>\n      <th>1</th>\n      <td>1</td>\n      <td>1</td>\n      <td>Izze</td>\n      <td>[Clementine]</td>\n      <td>$3.39</td>\n    </tr>\n    <tr>\n      <th>2</th>\n      <td>1</td>\n      <td>1</td>\n      <td>Nantucket Nectar</td>\n      <td>[Apple]</td>\n      <td>$3.39</td>\n    </tr>\n    <tr>\n      <th>3</th>\n      <td>1</td>\n      <td>1</td>\n      <td>Chips and Tomatillo-Green Chili Salsa</td>\n      <td>NaN</td>\n      <td>$2.39</td>\n    </tr>\n    <tr>\n      <th>4</th>\n      <td>2</td>\n      <td>2</td>\n      <td>Chicken Bowl</td>\n      <td>[Tomatillo-Red Chili Salsa (Hot), [Black Beans...</td>\n      <td>$16.98</td>\n    </tr>\n    <tr>\n      <th>...</th>\n      <td>...</td>\n      <td>...</td>\n      <td>...</td>\n      <td>...</td>\n      <td>...</td>\n    </tr>\n    <tr>\n      <th>4617</th>\n      <td>1833</td>\n      <td>1</td>\n      <td>Steak Burrito</td>\n      <td>[Fresh Tomato Salsa, [Rice, Black Beans, Sour ...</td>\n      <td>$11.75</td>\n    </tr>\n    <tr>\n      <th>4618</th>\n      <td>1833</td>\n      <td>1</td>\n      <td>Steak Burrito</td>\n      <td>[Fresh Tomato Salsa, [Rice, Sour Cream, Cheese...</td>\n      <td>$11.75</td>\n    </tr>\n    <tr>\n      <th>4619</th>\n      <td>1834</td>\n      <td>1</td>\n      <td>Chicken Salad Bowl</td>\n      <td>[Fresh Tomato Salsa, [Fajita Vegetables, Pinto...</td>\n      <td>$11.25</td>\n    </tr>\n    <tr>\n      <th>4620</th>\n      <td>1834</td>\n      <td>1</td>\n      <td>Chicken Salad Bowl</td>\n      <td>[Fresh Tomato Salsa, [Fajita Vegetables, Lettu...</td>\n      <td>$8.75</td>\n    </tr>\n    <tr>\n      <th>4621</th>\n      <td>1834</td>\n      <td>1</td>\n      <td>Chicken Salad Bowl</td>\n      <td>[Fresh Tomato Salsa, [Fajita Vegetables, Pinto...</td>\n      <td>$8.75</td>\n    </tr>\n  </tbody>\n</table>\n<p>4622 rows × 5 columns</p>\n</div>"
          },
          "metadata": {}
        }
      ],
      "execution_count": 2,
      "block_group": "02f2ca567a6644dd96be814472d53bd4"
    },
    {
      "cell_type": "markdown",
      "source": "### b. Selecione e mostre as 10 primeiras entrada",
      "metadata": {
        "formattedRanges": [],
        "deepnote_app_coordinates": {
          "h": 5,
          "w": 12,
          "x": 0,
          "y": 0
        },
        "cell_id": "1168817113734101b88ca29b096e1b47",
        "deepnote_cell_type": "text-cell-h3"
      },
      "block_group": "1504bc9977a9499dafe3862ac3185f18"
    },
    {
      "cell_type": "code",
      "source": "chipo.head(10)\n",
      "metadata": {
        "source_hash": "6a609a92",
        "execution_start": 1698155830073,
        "execution_millis": 365,
        "deepnote_app_coordinates": {
          "h": 5,
          "w": 12,
          "x": 0,
          "y": 0
        },
        "deepnote_to_be_reexecuted": false,
        "cell_id": "81d59396497d44bb975099ec4c4c68e8",
        "deepnote_cell_type": "code"
      },
      "outputs": [
        {
          "output_type": "execute_result",
          "execution_count": 3,
          "data": {
            "application/vnd.deepnote.dataframe.v3+json": {
              "column_count": 5,
              "row_count": 10,
              "columns": [
                {
                  "name": "order_id",
                  "dtype": "int64",
                  "stats": {
                    "unique_count": 5,
                    "nan_count": 0,
                    "min": "1",
                    "max": "5",
                    "histogram": [
                      {
                        "bin_start": 1,
                        "bin_end": 1.4,
                        "count": 4
                      },
                      {
                        "bin_start": 1.4,
                        "bin_end": 1.8,
                        "count": 0
                      },
                      {
                        "bin_start": 1.8,
                        "bin_end": 2.2,
                        "count": 1
                      },
                      {
                        "bin_start": 2.2,
                        "bin_end": 2.6,
                        "count": 0
                      },
                      {
                        "bin_start": 2.6,
                        "bin_end": 3,
                        "count": 0
                      },
                      {
                        "bin_start": 3,
                        "bin_end": 3.4000000000000004,
                        "count": 2
                      },
                      {
                        "bin_start": 3.4000000000000004,
                        "bin_end": 3.8000000000000003,
                        "count": 0
                      },
                      {
                        "bin_start": 3.8000000000000003,
                        "bin_end": 4.2,
                        "count": 2
                      },
                      {
                        "bin_start": 4.2,
                        "bin_end": 4.6,
                        "count": 0
                      },
                      {
                        "bin_start": 4.6,
                        "bin_end": 5,
                        "count": 1
                      }
                    ]
                  }
                },
                {
                  "name": "quantity",
                  "dtype": "int64",
                  "stats": {
                    "unique_count": 2,
                    "nan_count": 0,
                    "min": "1",
                    "max": "2",
                    "histogram": [
                      {
                        "bin_start": 1,
                        "bin_end": 1.1,
                        "count": 9
                      },
                      {
                        "bin_start": 1.1,
                        "bin_end": 1.2,
                        "count": 0
                      },
                      {
                        "bin_start": 1.2,
                        "bin_end": 1.3,
                        "count": 0
                      },
                      {
                        "bin_start": 1.3,
                        "bin_end": 1.4,
                        "count": 0
                      },
                      {
                        "bin_start": 1.4,
                        "bin_end": 1.5,
                        "count": 0
                      },
                      {
                        "bin_start": 1.5,
                        "bin_end": 1.6,
                        "count": 0
                      },
                      {
                        "bin_start": 1.6,
                        "bin_end": 1.7000000000000002,
                        "count": 0
                      },
                      {
                        "bin_start": 1.7000000000000002,
                        "bin_end": 1.8,
                        "count": 0
                      },
                      {
                        "bin_start": 1.8,
                        "bin_end": 1.9,
                        "count": 0
                      },
                      {
                        "bin_start": 1.9,
                        "bin_end": 2,
                        "count": 1
                      }
                    ]
                  }
                },
                {
                  "name": "item_name",
                  "dtype": "object",
                  "stats": {
                    "unique_count": 8,
                    "nan_count": 0,
                    "categories": [
                      {
                        "name": "Chicken Bowl",
                        "count": 2
                      },
                      {
                        "name": "Steak Burrito",
                        "count": 2
                      },
                      {
                        "name": "6 others",
                        "count": 6
                      }
                    ]
                  }
                },
                {
                  "name": "choice_description",
                  "dtype": "object",
                  "stats": {
                    "unique_count": 7,
                    "nan_count": 3,
                    "categories": [
                      {
                        "name": "[Clementine]",
                        "count": 1
                      },
                      {
                        "name": "6 others",
                        "count": 6
                      },
                      {
                        "name": "Missing",
                        "count": 3
                      }
                    ]
                  }
                },
                {
                  "name": "item_price",
                  "dtype": "object",
                  "stats": {
                    "unique_count": 7,
                    "nan_count": 0,
                    "categories": [
                      {
                        "name": "$2.39 ",
                        "count": 2
                      },
                      {
                        "name": "$3.39 ",
                        "count": 2
                      },
                      {
                        "name": "5 others",
                        "count": 6
                      }
                    ]
                  }
                },
                {
                  "name": "_deepnote_index_column",
                  "dtype": "int64"
                }
              ],
              "rows": [
                {
                  "order_id": 1,
                  "quantity": 1,
                  "item_name": "Chips and Fresh Tomato Salsa",
                  "choice_description": "nan",
                  "item_price": "$2.39 ",
                  "_deepnote_index_column": 0
                },
                {
                  "order_id": 1,
                  "quantity": 1,
                  "item_name": "Izze",
                  "choice_description": "[Clementine]",
                  "item_price": "$3.39 ",
                  "_deepnote_index_column": 1
                },
                {
                  "order_id": 1,
                  "quantity": 1,
                  "item_name": "Nantucket Nectar",
                  "choice_description": "[Apple]",
                  "item_price": "$3.39 ",
                  "_deepnote_index_column": 2
                },
                {
                  "order_id": 1,
                  "quantity": 1,
                  "item_name": "Chips and Tomatillo-Green Chili Salsa",
                  "choice_description": "nan",
                  "item_price": "$2.39 ",
                  "_deepnote_index_column": 3
                },
                {
                  "order_id": 2,
                  "quantity": 2,
                  "item_name": "Chicken Bowl",
                  "choice_description": "[Tomatillo-Red Chili Salsa (Hot), [Black Beans, Rice, Cheese, Sour Cream]]",
                  "item_price": "$16.98 ",
                  "_deepnote_index_column": 4
                },
                {
                  "order_id": 3,
                  "quantity": 1,
                  "item_name": "Chicken Bowl",
                  "choice_description": "[Fresh Tomato Salsa (Mild), [Rice, Cheese, Sour Cream, Guacamole, Lettuce]]",
                  "item_price": "$10.98 ",
                  "_deepnote_index_column": 5
                },
                {
                  "order_id": 3,
                  "quantity": 1,
                  "item_name": "Side of Chips",
                  "choice_description": "nan",
                  "item_price": "$1.69 ",
                  "_deepnote_index_column": 6
                },
                {
                  "order_id": 4,
                  "quantity": 1,
                  "item_name": "Steak Burrito",
                  "choice_description": "[Tomatillo Red Chili Salsa, [Fajita Vegetables, Black Beans, Pinto Beans, Cheese, Sour Cream, Guacamole, Lettuce]]",
                  "item_price": "$11.75 ",
                  "_deepnote_index_column": 7
                },
                {
                  "order_id": 4,
                  "quantity": 1,
                  "item_name": "Steak Soft Tacos",
                  "choice_description": "[Tomatillo Green Chili Salsa, [Pinto Beans, Cheese, Sour Cream, Lettuce]]",
                  "item_price": "$9.25 ",
                  "_deepnote_index_column": 8
                },
                {
                  "order_id": 5,
                  "quantity": 1,
                  "item_name": "Steak Burrito",
                  "choice_description": "[Fresh Tomato Salsa, [Rice, Black Beans, Pinto Beans, Cheese, Sour Cream, Lettuce]]",
                  "item_price": "$9.25 ",
                  "_deepnote_index_column": 9
                }
              ]
            },
            "text/plain": "   order_id  quantity                              item_name  \\\n0         1         1           Chips and Fresh Tomato Salsa   \n1         1         1                                   Izze   \n2         1         1                       Nantucket Nectar   \n3         1         1  Chips and Tomatillo-Green Chili Salsa   \n4         2         2                           Chicken Bowl   \n5         3         1                           Chicken Bowl   \n6         3         1                          Side of Chips   \n7         4         1                          Steak Burrito   \n8         4         1                       Steak Soft Tacos   \n9         5         1                          Steak Burrito   \n\n                                  choice_description item_price  \n0                                                NaN     $2.39   \n1                                       [Clementine]     $3.39   \n2                                            [Apple]     $3.39   \n3                                                NaN     $2.39   \n4  [Tomatillo-Red Chili Salsa (Hot), [Black Beans...    $16.98   \n5  [Fresh Tomato Salsa (Mild), [Rice, Cheese, Sou...    $10.98   \n6                                                NaN     $1.69   \n7  [Tomatillo Red Chili Salsa, [Fajita Vegetables...    $11.75   \n8  [Tomatillo Green Chili Salsa, [Pinto Beans, Ch...     $9.25   \n9  [Fresh Tomato Salsa, [Rice, Black Beans, Pinto...     $9.25   ",
            "text/html": "<div>\n<style scoped>\n    .dataframe tbody tr th:only-of-type {\n        vertical-align: middle;\n    }\n\n    .dataframe tbody tr th {\n        vertical-align: top;\n    }\n\n    .dataframe thead th {\n        text-align: right;\n    }\n</style>\n<table border=\"1\" class=\"dataframe\">\n  <thead>\n    <tr style=\"text-align: right;\">\n      <th></th>\n      <th>order_id</th>\n      <th>quantity</th>\n      <th>item_name</th>\n      <th>choice_description</th>\n      <th>item_price</th>\n    </tr>\n  </thead>\n  <tbody>\n    <tr>\n      <th>0</th>\n      <td>1</td>\n      <td>1</td>\n      <td>Chips and Fresh Tomato Salsa</td>\n      <td>NaN</td>\n      <td>$2.39</td>\n    </tr>\n    <tr>\n      <th>1</th>\n      <td>1</td>\n      <td>1</td>\n      <td>Izze</td>\n      <td>[Clementine]</td>\n      <td>$3.39</td>\n    </tr>\n    <tr>\n      <th>2</th>\n      <td>1</td>\n      <td>1</td>\n      <td>Nantucket Nectar</td>\n      <td>[Apple]</td>\n      <td>$3.39</td>\n    </tr>\n    <tr>\n      <th>3</th>\n      <td>1</td>\n      <td>1</td>\n      <td>Chips and Tomatillo-Green Chili Salsa</td>\n      <td>NaN</td>\n      <td>$2.39</td>\n    </tr>\n    <tr>\n      <th>4</th>\n      <td>2</td>\n      <td>2</td>\n      <td>Chicken Bowl</td>\n      <td>[Tomatillo-Red Chili Salsa (Hot), [Black Beans...</td>\n      <td>$16.98</td>\n    </tr>\n    <tr>\n      <th>5</th>\n      <td>3</td>\n      <td>1</td>\n      <td>Chicken Bowl</td>\n      <td>[Fresh Tomato Salsa (Mild), [Rice, Cheese, Sou...</td>\n      <td>$10.98</td>\n    </tr>\n    <tr>\n      <th>6</th>\n      <td>3</td>\n      <td>1</td>\n      <td>Side of Chips</td>\n      <td>NaN</td>\n      <td>$1.69</td>\n    </tr>\n    <tr>\n      <th>7</th>\n      <td>4</td>\n      <td>1</td>\n      <td>Steak Burrito</td>\n      <td>[Tomatillo Red Chili Salsa, [Fajita Vegetables...</td>\n      <td>$11.75</td>\n    </tr>\n    <tr>\n      <th>8</th>\n      <td>4</td>\n      <td>1</td>\n      <td>Steak Soft Tacos</td>\n      <td>[Tomatillo Green Chili Salsa, [Pinto Beans, Ch...</td>\n      <td>$9.25</td>\n    </tr>\n    <tr>\n      <th>9</th>\n      <td>5</td>\n      <td>1</td>\n      <td>Steak Burrito</td>\n      <td>[Fresh Tomato Salsa, [Rice, Black Beans, Pinto...</td>\n      <td>$9.25</td>\n    </tr>\n  </tbody>\n</table>\n</div>"
          },
          "metadata": {}
        }
      ],
      "execution_count": 3,
      "block_group": "ff6f654e841044c6b973ab6fd21d699e"
    },
    {
      "cell_type": "markdown",
      "source": "### c. Quantas observações estão presentes neste DataSet?",
      "metadata": {
        "formattedRanges": [],
        "deepnote_app_coordinates": {
          "h": 5,
          "w": 12,
          "x": 0,
          "y": 0
        },
        "cell_id": "e2a97e9524c84b5eb58b1f484411debc",
        "deepnote_cell_type": "text-cell-h3"
      },
      "block_group": "de3b8e3bf98c4066b21e6385e91bf550"
    },
    {
      "cell_type": "code",
      "source": "print(f'{len(chipo)} observações.')",
      "metadata": {
        "source_hash": "267a97e3",
        "execution_start": 1698155830081,
        "execution_millis": 113,
        "deepnote_app_coordinates": {
          "h": 5,
          "w": 12,
          "x": 0,
          "y": 0
        },
        "deepnote_to_be_reexecuted": false,
        "cell_id": "b3b1918a13424f6bbd053ec728ca8b1c",
        "deepnote_cell_type": "code"
      },
      "outputs": [
        {
          "name": "stdout",
          "text": "4622 observações.\n",
          "output_type": "stream"
        }
      ],
      "execution_count": 4,
      "block_group": "1ff93e03d86c47489d5ebe0f0a921148"
    },
    {
      "cell_type": "markdown",
      "source": "### d. Qual o número de colunas neste DataSet?",
      "metadata": {
        "formattedRanges": [],
        "deepnote_app_coordinates": {
          "h": 5,
          "w": 12,
          "x": 0,
          "y": 0
        },
        "cell_id": "b6322f22dbab43fe8911ff010d2a2e0b",
        "deepnote_cell_type": "text-cell-h3"
      },
      "block_group": "df9925d0a9234d5cbfe1818b0511f427"
    },
    {
      "cell_type": "code",
      "source": "columns_num = len(chipo.columns)\nprint(f'{columns_num} colunas.')",
      "metadata": {
        "source_hash": "53f46062",
        "execution_start": 1698155830088,
        "execution_millis": 82,
        "deepnote_app_coordinates": {
          "h": 5,
          "w": 12,
          "x": 0,
          "y": 0
        },
        "deepnote_to_be_reexecuted": false,
        "cell_id": "66eb8e88b4884d4a879d67280e934c49",
        "deepnote_cell_type": "code"
      },
      "outputs": [
        {
          "name": "stdout",
          "text": "5 colunas.\n",
          "output_type": "stream"
        }
      ],
      "execution_count": 5,
      "block_group": "9cb0954d1baf4231b4daae7630a1cc9a"
    },
    {
      "cell_type": "markdown",
      "source": "### e. Qual o nome de todas as colunas deste DataSet?",
      "metadata": {
        "formattedRanges": [],
        "deepnote_app_coordinates": {
          "h": 5,
          "w": 12,
          "x": 0,
          "y": 0
        },
        "cell_id": "127c7aa3d93745a2b5d8ab4c2b0ee14e",
        "deepnote_cell_type": "text-cell-h3"
      },
      "block_group": "d0d2e6598abf4132a2abb9ae2ba99eab"
    },
    {
      "cell_type": "code",
      "source": "chipo.columns",
      "metadata": {
        "source_hash": "d1ff06ea",
        "execution_start": 1698155830111,
        "execution_millis": 121,
        "deepnote_app_coordinates": {
          "h": 5,
          "w": 12,
          "x": 0,
          "y": 0
        },
        "deepnote_to_be_reexecuted": false,
        "cell_id": "0ba43bce131d4e11aebfde64ed6f2d0a",
        "deepnote_cell_type": "code"
      },
      "outputs": [
        {
          "output_type": "execute_result",
          "execution_count": 6,
          "data": {
            "text/plain": "Index(['order_id', 'quantity', 'item_name', 'choice_description',\n       'item_price'],\n      dtype='object')"
          },
          "metadata": {}
        }
      ],
      "execution_count": 6,
      "block_group": "747abe2dc72b4be7a20132f90685425b"
    },
    {
      "cell_type": "markdown",
      "source": "### f. Qual o produto mais pedido? Quantas vezes ele foi pedido?",
      "metadata": {
        "formattedRanges": [],
        "deepnote_app_coordinates": {
          "h": 5,
          "w": 12,
          "x": 0,
          "y": 0
        },
        "cell_id": "4cdc164734c74c92bd941c31e8e94efb",
        "deepnote_cell_type": "text-cell-h3"
      },
      "block_group": "39ec2a683fdb4f3382f50bcbf7f1899d"
    },
    {
      "cell_type": "code",
      "source": "soma_item= chipo.groupby('item_name').quantity.sum()\nnome_item = soma_item.idxmax()\nquantidade = soma_item.max()\n\nprint(f'{nome_item} e foi pedido {quantidade} vezes.')",
      "metadata": {
        "source_hash": "e33295db",
        "execution_start": 1698155830112,
        "execution_millis": 39,
        "deepnote_app_coordinates": {
          "h": 5,
          "w": 12,
          "x": 0,
          "y": 0
        },
        "deepnote_to_be_reexecuted": false,
        "cell_id": "33cbb216bc2f43afa1996321ca9ad68d",
        "deepnote_cell_type": "code"
      },
      "outputs": [
        {
          "name": "stdout",
          "text": "Chicken Bowl e foi pedido 761 vezes.\n",
          "output_type": "stream"
        }
      ],
      "execution_count": 7,
      "block_group": "a008a45ffe7b4ba38dc63d4e34f66859"
    },
    {
      "cell_type": "markdown",
      "source": "### g. Qual foi o pedido mais pedido dentro da coluna choice_description?",
      "metadata": {
        "formattedRanges": [],
        "deepnote_app_coordinates": {
          "h": 5,
          "w": 12,
          "x": 0,
          "y": 0
        },
        "cell_id": "9cdbb6d55d6e4d5ebf40b53cb3f70628",
        "deepnote_cell_type": "text-cell-h3"
      },
      "block_group": "8622f47650cc468c9ca1d9ba15d24bd8"
    },
    {
      "cell_type": "code",
      "source": "soma_item_descri = chipo.groupby('choice_description').quantity.sum()\nnome_item_descri = soma_item_descri.idxmax().strip('[]')\nquantidade_descri = soma_item_descri.max()\n\nprint(f'{nome_item_descri} e foi pedido {quantidade_descri} vezes.')",
      "metadata": {
        "source_hash": "4e47bc43",
        "execution_start": 1698155830124,
        "execution_millis": 26,
        "deepnote_app_coordinates": {
          "h": 5,
          "w": 12,
          "x": 0,
          "y": 0
        },
        "deepnote_to_be_reexecuted": false,
        "cell_id": "1c47827fdf8549e98037f0c5994ed606",
        "deepnote_cell_type": "code"
      },
      "outputs": [
        {
          "name": "stdout",
          "text": "Diet Coke e foi pedido 159 vezes.\n",
          "output_type": "stream"
        }
      ],
      "execution_count": 8,
      "block_group": "b498e0b312ce4e05ac3075847cd9da40"
    },
    {
      "cell_type": "markdown",
      "source": "### h. Quantos itens foram pedidos no total?",
      "metadata": {
        "formattedRanges": [],
        "deepnote_app_coordinates": {
          "h": 5,
          "w": 12,
          "x": 0,
          "y": 0
        },
        "cell_id": "64f34901c8e04ec9a90821acbda48e97",
        "deepnote_cell_type": "text-cell-h3"
      },
      "block_group": "5d8eadd9a57543889eb38c58f6dda773"
    },
    {
      "cell_type": "code",
      "source": "# Total de produtos pedidos\ntotal_pedidos = chipo.quantity.sum()\nprint(f'Tiveram {total_pedidos} pedidos.')",
      "metadata": {
        "source_hash": "5399279e",
        "execution_start": 1698155830162,
        "execution_millis": 66,
        "deepnote_app_coordinates": {
          "h": 5,
          "w": 12,
          "x": 0,
          "y": 0
        },
        "deepnote_to_be_reexecuted": false,
        "cell_id": "2e94dc9d95234dbb8eef01fc827dd5a7",
        "deepnote_cell_type": "code"
      },
      "outputs": [
        {
          "name": "stdout",
          "text": "Tiveram 4972 pedidos.\n",
          "output_type": "stream"
        }
      ],
      "execution_count": 9,
      "block_group": "5577018d43fe4c3386d2ed10d77c6b08"
    },
    {
      "cell_type": "code",
      "source": "# Quantidade de produtos na base de dados\ntotal_produtos = chipo.item_name.unique()\nprint(len(total_produtos))",
      "metadata": {
        "source_hash": "96ad627f",
        "execution_start": 1698155830172,
        "execution_millis": 104,
        "deepnote_app_coordinates": {
          "h": 5,
          "w": 12,
          "x": 0,
          "y": 0
        },
        "deepnote_to_be_reexecuted": false,
        "cell_id": "198f761de92a43fca965b17047f6e2b3",
        "deepnote_cell_type": "code"
      },
      "outputs": [
        {
          "name": "stdout",
          "text": "50\n",
          "output_type": "stream"
        }
      ],
      "execution_count": 10,
      "block_group": "1843825d92564fd4bdbda3c706bdc093"
    },
    {
      "cell_type": "markdown",
      "source": "### i. Qual foi o valor recebido para o período representado nessa base de dados?",
      "metadata": {
        "formattedRanges": [],
        "deepnote_app_coordinates": {
          "h": 5,
          "w": 12,
          "x": 0,
          "y": 0
        },
        "cell_id": "29043c23ff6a41a8809e44e68dc8df28",
        "deepnote_cell_type": "text-cell-h3"
      },
      "block_group": "80af421b223c49c882b68b3d32639436"
    },
    {
      "cell_type": "code",
      "source": "chipo['item_price'] = chipo['item_price'].astype(str).str.replace('$','',regex=True).astype(float)\nvalor_recebido = chipo['item_price'].sum()\n\nprint(f'${valor_recebido}.')",
      "metadata": {
        "source_hash": "d4892958",
        "execution_start": 1698155830181,
        "execution_millis": 57,
        "deepnote_app_coordinates": {
          "h": 5,
          "w": 12,
          "x": 0,
          "y": 0
        },
        "deepnote_to_be_reexecuted": false,
        "cell_id": "577d4642fc434285bf819648438aa5bd",
        "deepnote_cell_type": "code"
      },
      "outputs": [
        {
          "name": "stdout",
          "text": "$34500.16.\n",
          "output_type": "stream"
        }
      ],
      "execution_count": 11,
      "block_group": "bb98fdf5b78740519ff81315aac215ae"
    },
    {
      "cell_type": "markdown",
      "source": "### j. Qual a média do valor recebido por pedido?",
      "metadata": {
        "formattedRanges": [],
        "deepnote_app_coordinates": {
          "h": 5,
          "w": 12,
          "x": 0,
          "y": 0
        },
        "cell_id": "0c3b12201b4b494a9366479eafecb553",
        "deepnote_cell_type": "text-cell-h3"
      },
      "block_group": "384494316eb341cb855ed0542216a134"
    },
    {
      "cell_type": "code",
      "source": "soma_por_pedido = chipo.groupby(chipo['order_id']).item_price.sum()\nmedia_por_pedido = soma_por_pedido.mean()\nprint(f'A média de valor recebido por pedido é de ${round(media_por_pedido,2)}.')",
      "metadata": {
        "source_hash": "8fddb344",
        "execution_start": 1698155830188,
        "execution_millis": 41,
        "deepnote_app_coordinates": {
          "h": 5,
          "w": 12,
          "x": 0,
          "y": 0
        },
        "deepnote_to_be_reexecuted": false,
        "cell_id": "e5c542bb023740678bdc487aa93d114d",
        "deepnote_cell_type": "code"
      },
      "outputs": [
        {
          "name": "stdout",
          "text": "A média de valor recebido por pedido é de $18.81.\n",
          "output_type": "stream"
        }
      ],
      "execution_count": 12,
      "block_group": "42eccb0198524f8db8afeff3cd330426"
    },
    {
      "cell_type": "markdown",
      "source": "### k. Quantos itens diferentes estão esgotados?",
      "metadata": {
        "formattedRanges": [],
        "deepnote_app_coordinates": {
          "h": 5,
          "w": 12,
          "x": 0,
          "y": 0
        },
        "cell_id": "050789ad36774b2fab09593ebc0a04cb",
        "deepnote_cell_type": "text-cell-h3"
      },
      "block_group": "b2743a5c65d14f7faa925510c34a74b6"
    },
    {
      "cell_type": "markdown",
      "source": "A base de dados está incompleta cabendo a pessoa responsável pela obtenção dos dados voltar ao passo de Data Preparation baseado no CRISP-DM. Sugestão: enviar tabela de estoque por item.",
      "metadata": {
        "formattedRanges": [
          {
            "type": "marks",
            "marks": {
              "bold": true
            },
            "toCodePoint": 186,
            "fromCodePoint": 0
          }
        ],
        "deepnote_app_coordinates": {
          "h": 2,
          "w": 8,
          "x": 0,
          "y": 0
        },
        "cell_id": "db224e5ef60c4cbcbc5bb0be0572f40a",
        "deepnote_cell_type": "text-cell-p"
      },
      "block_group": "aeeb52717ab741fb91a01580f49865db"
    },
    {
      "cell_type": "markdown",
      "source": "### l. Quantos produtos custam mais de $10?",
      "metadata": {
        "formattedRanges": [],
        "deepnote_app_coordinates": {
          "h": 5,
          "w": 12,
          "x": 0,
          "y": 0
        },
        "cell_id": "f440cc4345414834b78ceed82a754efc",
        "deepnote_cell_type": "text-cell-h3"
      },
      "block_group": "e57b7b7142664e2794e83c1594429ba5"
    },
    {
      "cell_type": "code",
      "source": "chipo['chipo_unidade'] = chipo['item_price']/chipo['quantity']\nchipo_maior_10 = (chipo['chipo_unidade'] > 10).sum()\nprint(f'{chipo_maior_10} produtos.')",
      "metadata": {
        "source_hash": "bacc0153",
        "execution_start": 1698155830193,
        "execution_millis": 83,
        "deepnote_app_coordinates": {
          "h": 5,
          "w": 12,
          "x": 0,
          "y": 0
        },
        "deepnote_to_be_reexecuted": false,
        "cell_id": "41928d5cd02c435fb4f3bb8ae40b1ebe",
        "deepnote_cell_type": "code"
      },
      "outputs": [
        {
          "name": "stdout",
          "text": "1034 produtos.\n",
          "output_type": "stream"
        }
      ],
      "execution_count": 13,
      "block_group": "aecf453aa68649a09f339ea15042123b"
    },
    {
      "cell_type": "markdown",
      "source": "### m. Qual o preço para cada um deles?",
      "metadata": {
        "formattedRanges": [],
        "deepnote_app_coordinates": {
          "h": 5,
          "w": 12,
          "x": 0,
          "y": 0
        },
        "cell_id": "916340349c774404aea409bb33bff506",
        "deepnote_cell_type": "text-cell-h3"
      },
      "block_group": "2be4ffc2d45543bb8da0707b8fc572d3"
    },
    {
      "cell_type": "code",
      "source": "chipo_preco_maior_10 = chipo[chipo['chipo_unidade'] > 10][['item_name','chipo_unidade']]\nchipo_preco_maior_10",
      "metadata": {
        "source_hash": "95f2ffb1",
        "execution_start": 1698155830256,
        "execution_millis": 363,
        "deepnote_app_coordinates": {
          "h": 5,
          "w": 12,
          "x": 0,
          "y": 0
        },
        "deepnote_to_be_reexecuted": false,
        "cell_id": "958c65311f434baa817e33f27ac2c979",
        "deepnote_cell_type": "code"
      },
      "outputs": [
        {
          "output_type": "execute_result",
          "execution_count": 14,
          "data": {
            "application/vnd.deepnote.dataframe.v3+json": {
              "column_count": 2,
              "row_count": 1034,
              "columns": [
                {
                  "name": "item_name",
                  "dtype": "object",
                  "stats": {
                    "unique_count": 25,
                    "nan_count": 0,
                    "categories": [
                      {
                        "name": "Chicken Bowl",
                        "count": 282
                      },
                      {
                        "name": "Chicken Burrito",
                        "count": 180
                      },
                      {
                        "name": "23 others",
                        "count": 572
                      }
                    ]
                  }
                },
                {
                  "name": "chipo_unidade",
                  "dtype": "float64",
                  "stats": {
                    "unique_count": 9,
                    "nan_count": 0,
                    "min": "10.58",
                    "max": "11.89",
                    "histogram": [
                      {
                        "bin_start": 10.58,
                        "bin_end": 10.711,
                        "count": 5
                      },
                      {
                        "bin_start": 10.711,
                        "bin_end": 10.842,
                        "count": 0
                      },
                      {
                        "bin_start": 10.842,
                        "bin_end": 10.973,
                        "count": 0
                      },
                      {
                        "bin_start": 10.973,
                        "bin_end": 11.104000000000001,
                        "count": 122
                      },
                      {
                        "bin_start": 11.104000000000001,
                        "bin_end": 11.235,
                        "count": 0
                      },
                      {
                        "bin_start": 11.235,
                        "bin_end": 11.366,
                        "count": 535
                      },
                      {
                        "bin_start": 11.366,
                        "bin_end": 11.497,
                        "count": 53
                      },
                      {
                        "bin_start": 11.497,
                        "bin_end": 11.628,
                        "count": 0
                      },
                      {
                        "bin_start": 11.628,
                        "bin_end": 11.759,
                        "count": 291
                      },
                      {
                        "bin_start": 11.759,
                        "bin_end": 11.89,
                        "count": 28
                      }
                    ]
                  }
                },
                {
                  "name": "_deepnote_index_column",
                  "dtype": "int64"
                }
              ],
              "rows": [
                {
                  "item_name": "Chicken Bowl",
                  "chipo_unidade": 10.98,
                  "_deepnote_index_column": 5
                },
                {
                  "item_name": "Steak Burrito",
                  "chipo_unidade": 11.75,
                  "_deepnote_index_column": 7
                },
                {
                  "item_name": "Chicken Bowl",
                  "chipo_unidade": 11.25,
                  "_deepnote_index_column": 13
                },
                {
                  "item_name": "Chicken Burrito",
                  "chipo_unidade": 10.98,
                  "_deepnote_index_column": 23
                },
                {
                  "item_name": "Barbacoa Bowl",
                  "chipo_unidade": 11.75,
                  "_deepnote_index_column": 39
                },
                {
                  "item_name": "Chicken Bowl",
                  "chipo_unidade": 11.25,
                  "_deepnote_index_column": 42
                },
                {
                  "item_name": "Steak Burrito",
                  "chipo_unidade": 11.75,
                  "_deepnote_index_column": 43
                },
                {
                  "item_name": "Chicken Burrito",
                  "chipo_unidade": 10.98,
                  "_deepnote_index_column": 45
                },
                {
                  "item_name": "Chicken Burrito",
                  "chipo_unidade": 10.98,
                  "_deepnote_index_column": 52
                },
                {
                  "item_name": "Veggie Burrito",
                  "chipo_unidade": 11.25,
                  "_deepnote_index_column": 57
                }
              ]
            },
            "text/plain": "               item_name  chipo_unidade\n5           Chicken Bowl          10.98\n7          Steak Burrito          11.75\n13          Chicken Bowl          11.25\n23       Chicken Burrito          10.98\n39         Barbacoa Bowl          11.75\n...                  ...            ...\n4610       Steak Burrito          11.75\n4611      Veggie Burrito          11.25\n4617       Steak Burrito          11.75\n4618       Steak Burrito          11.75\n4619  Chicken Salad Bowl          11.25\n\n[1034 rows x 2 columns]",
            "text/html": "<div>\n<style scoped>\n    .dataframe tbody tr th:only-of-type {\n        vertical-align: middle;\n    }\n\n    .dataframe tbody tr th {\n        vertical-align: top;\n    }\n\n    .dataframe thead th {\n        text-align: right;\n    }\n</style>\n<table border=\"1\" class=\"dataframe\">\n  <thead>\n    <tr style=\"text-align: right;\">\n      <th></th>\n      <th>item_name</th>\n      <th>chipo_unidade</th>\n    </tr>\n  </thead>\n  <tbody>\n    <tr>\n      <th>5</th>\n      <td>Chicken Bowl</td>\n      <td>10.98</td>\n    </tr>\n    <tr>\n      <th>7</th>\n      <td>Steak Burrito</td>\n      <td>11.75</td>\n    </tr>\n    <tr>\n      <th>13</th>\n      <td>Chicken Bowl</td>\n      <td>11.25</td>\n    </tr>\n    <tr>\n      <th>23</th>\n      <td>Chicken Burrito</td>\n      <td>10.98</td>\n    </tr>\n    <tr>\n      <th>39</th>\n      <td>Barbacoa Bowl</td>\n      <td>11.75</td>\n    </tr>\n    <tr>\n      <th>...</th>\n      <td>...</td>\n      <td>...</td>\n    </tr>\n    <tr>\n      <th>4610</th>\n      <td>Steak Burrito</td>\n      <td>11.75</td>\n    </tr>\n    <tr>\n      <th>4611</th>\n      <td>Veggie Burrito</td>\n      <td>11.25</td>\n    </tr>\n    <tr>\n      <th>4617</th>\n      <td>Steak Burrito</td>\n      <td>11.75</td>\n    </tr>\n    <tr>\n      <th>4618</th>\n      <td>Steak Burrito</td>\n      <td>11.75</td>\n    </tr>\n    <tr>\n      <th>4619</th>\n      <td>Chicken Salad Bowl</td>\n      <td>11.25</td>\n    </tr>\n  </tbody>\n</table>\n<p>1034 rows × 2 columns</p>\n</div>"
          },
          "metadata": {}
        }
      ],
      "execution_count": 14,
      "block_group": "12b51f4c6720494eab09b02636272f8e"
    },
    {
      "cell_type": "markdown",
      "source": "### n. Ordene os itens que custam mais de $10 por ordem alfabética.",
      "metadata": {
        "formattedRanges": [],
        "deepnote_app_coordinates": {
          "h": 5,
          "w": 12,
          "x": 0,
          "y": 0
        },
        "cell_id": "54ed6482c8014ca79a26b4e2a7a6d36a",
        "deepnote_cell_type": "text-cell-h3"
      },
      "block_group": "e9d732f3fc854c5993183b7c6e16eb6d"
    },
    {
      "cell_type": "code",
      "source": "ordem_alfabetica = chipo_preco_maior_10.sort_values('item_name',ascending=True)\nordem_alfabetica",
      "metadata": {
        "source_hash": "8312fdd",
        "execution_start": 1698155830282,
        "execution_millis": 378,
        "deepnote_app_coordinates": {
          "h": 5,
          "w": 12,
          "x": 0,
          "y": 0
        },
        "deepnote_to_be_reexecuted": false,
        "cell_id": "4be116f29fee4f1582ed182290ce0c52",
        "deepnote_cell_type": "code"
      },
      "outputs": [
        {
          "output_type": "execute_result",
          "execution_count": 15,
          "data": {
            "application/vnd.deepnote.dataframe.v3+json": {
              "column_count": 2,
              "row_count": 1034,
              "columns": [
                {
                  "name": "item_name",
                  "dtype": "object",
                  "stats": {
                    "unique_count": 25,
                    "nan_count": 0,
                    "categories": [
                      {
                        "name": "Chicken Bowl",
                        "count": 282
                      },
                      {
                        "name": "Chicken Burrito",
                        "count": 180
                      },
                      {
                        "name": "23 others",
                        "count": 572
                      }
                    ]
                  }
                },
                {
                  "name": "chipo_unidade",
                  "dtype": "float64",
                  "stats": {
                    "unique_count": 9,
                    "nan_count": 0,
                    "min": "10.58",
                    "max": "11.89",
                    "histogram": [
                      {
                        "bin_start": 10.58,
                        "bin_end": 10.711,
                        "count": 5
                      },
                      {
                        "bin_start": 10.711,
                        "bin_end": 10.842,
                        "count": 0
                      },
                      {
                        "bin_start": 10.842,
                        "bin_end": 10.973,
                        "count": 0
                      },
                      {
                        "bin_start": 10.973,
                        "bin_end": 11.104000000000001,
                        "count": 122
                      },
                      {
                        "bin_start": 11.104000000000001,
                        "bin_end": 11.235,
                        "count": 0
                      },
                      {
                        "bin_start": 11.235,
                        "bin_end": 11.366,
                        "count": 535
                      },
                      {
                        "bin_start": 11.366,
                        "bin_end": 11.497,
                        "count": 53
                      },
                      {
                        "bin_start": 11.497,
                        "bin_end": 11.628,
                        "count": 0
                      },
                      {
                        "bin_start": 11.628,
                        "bin_end": 11.759,
                        "count": 291
                      },
                      {
                        "bin_start": 11.759,
                        "bin_end": 11.89,
                        "count": 28
                      }
                    ]
                  }
                },
                {
                  "name": "_deepnote_index_column",
                  "dtype": "int64"
                }
              ],
              "rows": [
                {
                  "item_name": "Barbacoa Bowl",
                  "chipo_unidade": 11.48,
                  "_deepnote_index_column": 1175
                },
                {
                  "item_name": "Barbacoa Bowl",
                  "chipo_unidade": 11.75,
                  "_deepnote_index_column": 2013
                },
                {
                  "item_name": "Barbacoa Bowl",
                  "chipo_unidade": 11.75,
                  "_deepnote_index_column": 2073
                },
                {
                  "item_name": "Barbacoa Bowl",
                  "chipo_unidade": 11.75,
                  "_deepnote_index_column": 4485
                },
                {
                  "item_name": "Barbacoa Bowl",
                  "chipo_unidade": 11.48,
                  "_deepnote_index_column": 471
                },
                {
                  "item_name": "Barbacoa Bowl",
                  "chipo_unidade": 11.75,
                  "_deepnote_index_column": 4140
                },
                {
                  "item_name": "Barbacoa Bowl",
                  "chipo_unidade": 11.75,
                  "_deepnote_index_column": 1746
                },
                {
                  "item_name": "Barbacoa Bowl",
                  "chipo_unidade": 11.75,
                  "_deepnote_index_column": 4046
                },
                {
                  "item_name": "Barbacoa Bowl",
                  "chipo_unidade": 11.49,
                  "_deepnote_index_column": 4510
                },
                {
                  "item_name": "Barbacoa Bowl",
                  "chipo_unidade": 11.75,
                  "_deepnote_index_column": 2749
                }
              ]
            },
            "text/plain": "              item_name  chipo_unidade\n1175      Barbacoa Bowl          11.48\n2013      Barbacoa Bowl          11.75\n2073      Barbacoa Bowl          11.75\n4485      Barbacoa Bowl          11.75\n471       Barbacoa Bowl          11.48\n...                 ...            ...\n1884  Veggie Salad Bowl          11.25\n4261  Veggie Salad Bowl          11.25\n295   Veggie Salad Bowl          11.25\n738   Veggie Soft Tacos          11.25\n1699  Veggie Soft Tacos          11.25\n\n[1034 rows x 2 columns]",
            "text/html": "<div>\n<style scoped>\n    .dataframe tbody tr th:only-of-type {\n        vertical-align: middle;\n    }\n\n    .dataframe tbody tr th {\n        vertical-align: top;\n    }\n\n    .dataframe thead th {\n        text-align: right;\n    }\n</style>\n<table border=\"1\" class=\"dataframe\">\n  <thead>\n    <tr style=\"text-align: right;\">\n      <th></th>\n      <th>item_name</th>\n      <th>chipo_unidade</th>\n    </tr>\n  </thead>\n  <tbody>\n    <tr>\n      <th>1175</th>\n      <td>Barbacoa Bowl</td>\n      <td>11.48</td>\n    </tr>\n    <tr>\n      <th>2013</th>\n      <td>Barbacoa Bowl</td>\n      <td>11.75</td>\n    </tr>\n    <tr>\n      <th>2073</th>\n      <td>Barbacoa Bowl</td>\n      <td>11.75</td>\n    </tr>\n    <tr>\n      <th>4485</th>\n      <td>Barbacoa Bowl</td>\n      <td>11.75</td>\n    </tr>\n    <tr>\n      <th>471</th>\n      <td>Barbacoa Bowl</td>\n      <td>11.48</td>\n    </tr>\n    <tr>\n      <th>...</th>\n      <td>...</td>\n      <td>...</td>\n    </tr>\n    <tr>\n      <th>1884</th>\n      <td>Veggie Salad Bowl</td>\n      <td>11.25</td>\n    </tr>\n    <tr>\n      <th>4261</th>\n      <td>Veggie Salad Bowl</td>\n      <td>11.25</td>\n    </tr>\n    <tr>\n      <th>295</th>\n      <td>Veggie Salad Bowl</td>\n      <td>11.25</td>\n    </tr>\n    <tr>\n      <th>738</th>\n      <td>Veggie Soft Tacos</td>\n      <td>11.25</td>\n    </tr>\n    <tr>\n      <th>1699</th>\n      <td>Veggie Soft Tacos</td>\n      <td>11.25</td>\n    </tr>\n  </tbody>\n</table>\n<p>1034 rows × 2 columns</p>\n</div>"
          },
          "metadata": {}
        }
      ],
      "execution_count": 15,
      "block_group": "22c99fbcb6e94392b930272acde63fe4"
    },
    {
      "cell_type": "markdown",
      "source": "### o. Quantas vezes o item mais caro foi pedido?",
      "metadata": {
        "formattedRanges": [],
        "deepnote_app_coordinates": {
          "h": 5,
          "w": 12,
          "x": 0,
          "y": 0
        },
        "cell_id": "d452ddea95674bea8f6c0f70ed73dde5",
        "deepnote_cell_type": "text-cell-h3"
      },
      "block_group": "af026b17a0314b9fb45e2b24c5ff38cd"
    },
    {
      "cell_type": "code",
      "source": "itens_mais_caros = chipo[chipo['chipo_unidade'] == chipo['chipo_unidade'].max()]\nquantidade = itens_mais_caros['quantity'].sum()\n\nprint(f'{quantidade} vezes.')",
      "metadata": {
        "source_hash": "87fefe29",
        "execution_start": 1698155830306,
        "execution_millis": 260,
        "deepnote_app_coordinates": {
          "h": 5,
          "w": 12,
          "x": 0,
          "y": 0
        },
        "deepnote_to_be_reexecuted": false,
        "cell_id": "19bc572f70d444a7a94a7efd48ad33ac",
        "deepnote_cell_type": "code"
      },
      "outputs": [
        {
          "name": "stdout",
          "text": "30 vezes.\n",
          "output_type": "stream"
        }
      ],
      "execution_count": 16,
      "block_group": "cef7a05181074e4ca44c4d378a20d67e"
    },
    {
      "cell_type": "markdown",
      "source": "### p. Quantas vezes uma Veggie Salad Bowl foi pedida?",
      "metadata": {
        "formattedRanges": [],
        "deepnote_app_coordinates": {
          "h": 5,
          "w": 12,
          "x": 0,
          "y": 0
        },
        "cell_id": "d11de0c38b294d9bb1083b61505fdc06",
        "deepnote_cell_type": "text-cell-h3"
      },
      "block_group": "703788166ab346bab6c93f71607dc3ae"
    },
    {
      "cell_type": "code",
      "source": "veggie = chipo[chipo['item_name'] == 'Veggie Salad Bowl']\ntotal_veggie = veggie['quantity'].sum()\n\nprint(f\"{total_veggie} vezes.\")",
      "metadata": {
        "source_hash": "2e5e77",
        "execution_start": 1698155830313,
        "execution_millis": 75,
        "deepnote_app_coordinates": {
          "h": 5,
          "w": 12,
          "x": 0,
          "y": 0
        },
        "deepnote_to_be_reexecuted": false,
        "cell_id": "3f2c563beabc4a918e4caed2fb0938b7",
        "deepnote_cell_type": "code"
      },
      "outputs": [
        {
          "name": "stdout",
          "text": "18 vezes.\n",
          "output_type": "stream"
        }
      ],
      "execution_count": 17,
      "block_group": "5ebfc9d4a546452c9cee3bcd2623763b"
    },
    {
      "cell_type": "markdown",
      "source": "### q. Crie um histograma com os 5 produtos mais pedidos.",
      "metadata": {
        "formattedRanges": [],
        "deepnote_app_coordinates": {
          "h": 5,
          "w": 12,
          "x": 0,
          "y": 0
        },
        "cell_id": "883a0f3f7fcc44019f4efae2cbcc27c6",
        "deepnote_cell_type": "text-cell-h3"
      },
      "block_group": "26a83d0b7d354900bb1f1fbbb46bbe2d"
    },
    {
      "cell_type": "code",
      "source": "cinco_mais_pedidos = soma_item.sort_values(ascending=False).nlargest(5)\nhistograma_cinco_mais_pedidos = plt.hist(cinco_mais_pedidos,bins=6,edgecolor='red',color='blue')\nplt.xlabel('produtos mais pedidos',fontsize=10)\nplt.ylabel('frequência',fontsize=10)\nplt.show()",
      "metadata": {
        "source_hash": "85e43d14",
        "execution_start": 1698155830314,
        "execution_millis": 599,
        "deepnote_app_coordinates": {
          "h": 5,
          "w": 12,
          "x": 0,
          "y": 0
        },
        "deepnote_to_be_reexecuted": false,
        "cell_id": "d3cbf0c3e06e4bc283d7ad2b66339698",
        "deepnote_cell_type": "code"
      },
      "outputs": [
        {
          "data": {
            "text/plain": "<Figure size 640x480 with 1 Axes>",
            "image/png": "[encoded data removed]"
          },
          "metadata": {
            "image/png": {
              "width": 576,
              "height": 432
            }
          },
          "output_type": "display_data"
        }
      ],
      "execution_count": 18,
      "block_group": "cb6544de9e3849149f9e711a32661d21"
    },
    {
      "cell_type": "markdown",
      "source": "Aqui também será criado um gráfico de barras para mostrar os 5 produtos mais pedidos em relação à quantidade de pedidos.",
      "metadata": {
        "formattedRanges": [
          {
            "type": "marks",
            "marks": {
              "bold": true
            },
            "toCodePoint": 120,
            "fromCodePoint": 0
          }
        ],
        "deepnote_app_coordinates": {
          "h": 2,
          "w": 8,
          "x": 0,
          "y": 0
        },
        "cell_id": "d4b8c33944c548afb2419341240f7024",
        "deepnote_cell_type": "text-cell-p"
      },
      "block_group": "f9188a7d80294ad8a1a91cb0e63dfb8b"
    },
    {
      "cell_type": "code",
      "source": "plt.figure(figsize=(12,6))\ncinco_mais_pedidos.plot.bar(color='orange')\nplt.xlabel('produto',fontsize=12)\nplt.ylabel('quantidade de pedidos',fontsize=12)\nplt.xticks(rotation=35,ha='right')\nplt.show()",
      "metadata": {
        "source_hash": "84bb6859",
        "execution_start": 1698155830710,
        "execution_millis": 451,
        "deepnote_app_coordinates": {
          "h": 5,
          "w": 12,
          "x": 0,
          "y": 0
        },
        "deepnote_to_be_reexecuted": false,
        "cell_id": "aad8b29c75e44b429db89402a5bd2d7e",
        "deepnote_cell_type": "code"
      },
      "outputs": [
        {
          "data": {
            "text/plain": "<Figure size 1200x600 with 1 Axes>",
            "image/png": "[encoded data removed]"
          },
          "metadata": {
            "image/png": {
              "width": 1009,
              "height": 614
            }
          },
          "output_type": "display_data"
        }
      ],
      "execution_count": 19,
      "block_group": "4c784055b6764abaa45856498f8cd4d9"
    },
    {
      "cell_type": "markdown",
      "source": "### r. Crie um gráfico de espalhamento onde em um eixo está o número de vezes que um pedido foi realizado e no outro eixo está o preço do produto.",
      "metadata": {
        "formattedRanges": [],
        "deepnote_app_coordinates": {
          "h": 5,
          "w": 12,
          "x": 0,
          "y": 0
        },
        "cell_id": "163a74556d7142a4bc6a7241118eef64",
        "deepnote_cell_type": "text-cell-h3"
      },
      "block_group": "f3c911d824684ebcbd7c286a97da8073"
    },
    {
      "cell_type": "code",
      "source": "soma_item = chipo.groupby('item_name')['quantity'].sum()\npreco_medio = chipo.groupby('item_name')['chipo_unidade'].mean()\nplt.figure(figsize=(10, 6))\nplt.scatter(soma_item, preco_medio, alpha=0.7,color='blue')\nplt.xlabel('Quantidade pedida')\nplt.ylabel('Preço médio')\nplt.grid(True)\n\nplt.show()",
      "metadata": {
        "source_hash": "1926878a",
        "execution_start": 1698155830964,
        "execution_millis": 399,
        "deepnote_app_coordinates": {
          "h": 5,
          "w": 12,
          "x": 0,
          "y": 0
        },
        "deepnote_to_be_reexecuted": false,
        "cell_id": "c8d60c66ee224711868f6a9cc70dd43e",
        "deepnote_cell_type": "code"
      },
      "outputs": [
        {
          "data": {
            "text/plain": "<Figure size 1000x600 with 1 Axes>",
            "image/png": "[encoded data removed]"
          },
          "metadata": {
            "image/png": {
              "width": 842,
              "height": 525
            }
          },
          "output_type": "display_data"
        }
      ],
      "execution_count": 20,
      "block_group": "ec8da9c4b5884c939aac8e0da1ca336c"
    },
    {
      "cell_type": "markdown",
      "source": "### s. Baseado no gráfico gerado, os dois eixos estão correlacionados? Justifique.",
      "metadata": {
        "formattedRanges": [],
        "deepnote_app_coordinates": {
          "h": 5,
          "w": 12,
          "x": 0,
          "y": 0
        },
        "cell_id": "03f00380e234494d953837d561a689c3",
        "deepnote_cell_type": "text-cell-h3"
      },
      "block_group": "db5501e0dadf4cc98ed9f8123119bf7c"
    },
    {
      "cell_type": "code",
      "source": "coeficiente_pearson = pearsonr(soma_item,preco_medio)[0]\np_valor = pearsonr(soma_item,preco_medio)[1]\nprint(f'O coeficiente de Pearson r = {coeficiente_pearson:.3f} mostra que a correlação entre as variáveis pode ser desprezível.')\nprint(f'p-valor = {p_valor:.2f}')",
      "metadata": {
        "source_hash": "57adb68",
        "execution_start": 1698155831239,
        "execution_millis": 38,
        "deepnote_app_coordinates": {
          "h": 5,
          "w": 12,
          "x": 0,
          "y": 0
        },
        "deepnote_to_be_reexecuted": false,
        "cell_id": "0ac0bb63e42e47e2be6d9e5ebb3d3019",
        "deepnote_cell_type": "code"
      },
      "outputs": [
        {
          "name": "stdout",
          "text": "O coeficiente de Pearson r = -0.046 mostra que a correlação entre as variáveis pode ser desprezível.\np-valor = 0.75\n",
          "output_type": "stream"
        }
      ],
      "execution_count": 21,
      "block_group": "c4248df873704bd3b1528e377ff40254"
    },
    {
      "cell_type": "markdown",
      "source": "É importante ressaltar que existem casos onde se tem uma correlação fraca, mas ainda assim estatisticamente significativa. Uma forma de ver isso é quando o p-valor está abaixo de 5%, o que leva a descartar a hipótese nula. Não é este caso, pois o p-valor é igual a 0.75, o que leva a hipótese nula.",
      "metadata": {
        "formattedRanges": [
          {
            "type": "marks",
            "marks": {
              "bold": true
            },
            "toCodePoint": 292,
            "fromCodePoint": 0
          },
          {
            "type": "marks",
            "marks": {
              "bold": true
            },
            "toCodePoint": 298,
            "fromCodePoint": 293
          }
        ],
        "deepnote_app_coordinates": {
          "h": 2,
          "w": 8,
          "x": 0,
          "y": 0
        },
        "cell_id": "44c677f5b64d4409b28bd21f7e91cc5d",
        "deepnote_cell_type": "text-cell-p"
      },
      "block_group": "af5a94bd9fd74798b1ddb89153d2a02e"
    },
    {
      "cell_type": "markdown",
      "source": "<a style='text-decoration:none;line-height:16px;display:flex;color:#5B5B62;padding:10px;justify-content:end;' href='https://deepnote.com?utm_source=created-in-deepnote-cell&projectId=d9e5c53f-79ce-42b6-a5b2-dfed1da41ccf' target=\"_blank\">\n<img alt='Created in deepnote.com' style='display:inline;max-height:16px;margin:0px;margin-right:7.5px;' src='data:image/svg+xml;base64,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' > </img>\nCreated in <span style='font-weight:600;margin-left:4px;'>Deepnote</span></a>",
      "metadata": {
        "created_in_deepnote_cell": true,
        "deepnote_cell_type": "markdown"
      }
    }
  ],
  "nbformat": 4,
  "nbformat_minor": 0,
  "metadata": {
    "deepnote": {},
    "orig_nbformat": 2,
    "deepnote_app_layout": "powerful-article",
    "deepnote_notebook_id": "29e6ec778d074432aef95b486f5c0a3d",
    "deepnote_execution_queue": []
  }
}